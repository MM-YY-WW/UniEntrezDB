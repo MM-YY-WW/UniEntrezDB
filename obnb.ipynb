{
 "cells": [
  {
   "cell_type": "markdown",
   "metadata": {},
   "source": [
    "# OBNB for UniEntrezDB benchmark"
   ]
  },
  {
   "cell_type": "markdown",
   "metadata": {},
   "source": [
    "## Preprocessing data \n",
    "map to the UniEntrezDB benchmark gene set with gene annoataion, gene sequence and corresponding protein sequece data available"
   ]
  },
  {
   "cell_type": "code",
   "execution_count": 25,
   "metadata": {},
   "outputs": [
    {
     "name": "stdout",
     "output_type": "stream",
     "text": [
      "7402\n"
     ]
    },
    {
     "data": {
      "text/plain": [
       "7403"
      ]
     },
     "execution_count": 25,
     "metadata": {},
     "output_type": "execute_result"
    }
   ],
   "source": [
    "d = np.load(\"datasets/BioGRID/processed/data.npz\")\n",
    "print(max(d['edge_index'][0]))\n",
    "len(d['node_ids'])"
   ]
  },
  {
   "cell_type": "code",
   "execution_count": 32,
   "metadata": {},
   "outputs": [
    {
     "name": "stdout",
     "output_type": "stream",
     "text": [
      "Initial overlap count: 7403\n",
      "Original .npz file saved as datasets/BioGRID/processed/obnb_data.npz\n",
      "New .npz file created at datasets/BioGRID/processed/data.npz with 19765 / 5760 nodes. and 1554790 / 2 edges, 5759\n",
      "Original .npz file saved as datasets/BioPlex/processed/obnb_data.npz\n",
      "New .npz file created at datasets/BioPlex/processed/data.npz with 8108 / 2537 nodes. and 71004 / 2 edges, 2536\n",
      "Original .npz file saved as datasets/ComPPIHumanInt/processed/obnb_data.npz\n",
      "New .npz file created at datasets/ComPPIHumanInt/processed/data.npz with 17015 / 5487 nodes. and 699620 / 2 edges, 5486\n",
      "Original .npz file saved as datasets/ConsensusPathDB/processed/obnb_data.npz\n",
      "New .npz file created at datasets/ConsensusPathDB/processed/data.npz with 17735 / 5697 nodes. and 10611416 / 2 edges, 5696\n",
      "Original .npz file saved as datasets/FunCoup/processed/obnb_data.npz\n",
      "New .npz file created at datasets/FunCoup/processed/data.npz with 17892 / 5612 nodes. and 10037478 / 2 edges, 5611\n",
      "Original .npz file saved as datasets/HIPPIE/processed/obnb_data.npz\n",
      "New .npz file created at datasets/HIPPIE/processed/data.npz with 19338 / 5765 nodes. and 1542044 / 2 edges, 5764\n",
      "Original .npz file saved as datasets/HuMAP/processed/obnb_data.npz\n",
      "New .npz file created at datasets/HuMAP/processed/data.npz with 15433 / 4789 nodes. and 35052604 / 2 edges, 4788\n",
      "Original .npz file saved as datasets/HuRI/processed/obnb_data.npz\n",
      "New .npz file created at datasets/HuRI/processed/data.npz with 8100 / 2597 nodes. and 103188 / 2 edges, 2594\n",
      "Original .npz file saved as datasets/OmniPath/processed/obnb_data.npz\n",
      "New .npz file created at datasets/OmniPath/processed/data.npz with 16325 / 5200 nodes. and 289134 / 2 edges, 5199\n",
      "Original .npz file saved as datasets/PCNet/processed/obnb_data.npz\n",
      "New .npz file created at datasets/PCNet/processed/data.npz with 18544 / 5737 nodes. and 5365116 / 2 edges, 5736\n",
      "Original .npz file saved as datasets/ProteomeHD/processed/obnb_data.npz\n",
      "New .npz file created at datasets/ProteomeHD/processed/data.npz with 2471 / 651 nodes. and 125172 / 2 edges, 650\n",
      "Original .npz file saved as datasets/SIGNOR/processed/obnb_data.npz\n",
      "New .npz file created at datasets/SIGNOR/processed/data.npz with 5291 / 1940 nodes. and 28676 / 2 edges, 1938\n",
      "Original .npz file saved as datasets/STRING/processed/obnb_data.npz\n",
      "New .npz file created at datasets/STRING/processed/data.npz with 18480 / 5789 nodes. and 11019492 / 2 edges, 5788\n"
     ]
    }
   ],
   "source": [
    "import numpy as np\n",
    "import os\n",
    "from tqdm import tqdm\n",
    "import pandas as pd\n",
    "\n",
    "# List of .npz files to process\n",
    "npz_files = [\n",
    "    \"datasets/BioGRID/processed/obnb_data.npz\",\n",
    "    \"datasets/BioPlex/processed/obnb_data.npz\",\n",
    "    \"datasets/ComPPIHumanInt/processed/obnb_data.npz\",\n",
    "    \"datasets/ConsensusPathDB/processed/obnb_data.npz\",\n",
    "    \"datasets/FunCoup/processed/obnb_data.npz\",\n",
    "    \"datasets/HIPPIE/processed/obnb_data.npz\",\n",
    "    \"datasets/HuMAP/processed/obnb_data.npz\",\n",
    "    \"datasets/HuRI/processed/obnb_data.npz\",\n",
    "    \"datasets/OmniPath/processed/obnb_data.npz\",\n",
    "    \"datasets/PCNet/processed/obnb_data.npz\",\n",
    "    \"datasets/ProteomeHD/processed/obnb_data.npz\",\n",
    "    \"datasets/SIGNOR/processed/obnb_data.npz\",\n",
    "    \"datasets/STRING/processed/obnb_data.npz\",\n",
    "]\n",
    "\n",
    "# npz_files = [\n",
    "#     \"datasets/BioGRID/processed/data.npz\",\n",
    "#     \"datasets/BioPlex/processed/data.npz\",\n",
    "#     \"datasets/ComPPIHumanInt/processed/data.npz\",\n",
    "#     \"datasets/ConsensusPathDB/processed/data.npz\",\n",
    "#     \"datasets/FunCoup/processed/data.npz\",\n",
    "#     \"datasets/HIPPIE/processed/data.npz\",\n",
    "#     \"datasets/HuMAP/processed/data.npz\",\n",
    "#     \"datasets/HuRI/processed/data.npz\",\n",
    "#     \"datasets/OmniPath/processed/data.npz\",\n",
    "#     \"datasets/PCNet/processed/data.npz\",\n",
    "#     \"datasets/ProteomeHD/processed/data.npz\",\n",
    "#     \"datasets/SIGNOR/processed/data.npz\",\n",
    "#     \"datasets/STRING/processed/data.npz\",\n",
    "# ]\n",
    "\n",
    "# Load the external ID sets\n",
    "goaid = pd.read_csv(\"Embeddings/GOA/gene_entrezID.csv\", header=None)\n",
    "dnabertid = pd.read_csv(\"Embeddings/DNABert/dnabert_allid.csv\", header=None)\n",
    "gene2vecid = pd.read_csv(\"Embeddings/Gene2Vec/gene2vec_id.csv\", header=None)\n",
    "ontoproteinid = pd.read_csv(\"Embeddings/ontoprotein/ids.csv\", header=None)\n",
    "\n",
    "# Create sets of IDs\n",
    "goa_id = set([str(id) for id in list(goaid[0])])\n",
    "dnabert_id = set([str(id) for id in list(dnabertid[0])])\n",
    "gene2vec_id = set([str(id) for id in list(gene2vecid[0])])\n",
    "ontoprotein_id = set([str(id) for id in list(ontoproteinid[0])])\n",
    "overlap = goa_id & dnabert_id & gene2vec_id & ontoprotein_id\n",
    "print(f\"Initial overlap count: {len(overlap)}\")\n",
    "\n",
    "for file in npz_files:\n",
    "    # Load data\n",
    "    data = np.load(file)\n",
    "    obnb_output_path = os.path.join(os.path.dirname(file), \"obnb_data.npz\")\n",
    "    np.savez(obnb_output_path, **data)\n",
    "    print(f\"Original .npz file saved as {obnb_output_path}\")\n",
    "\n",
    "\n",
    "    node_ids = list(data['node_ids'])\n",
    "    overlap_nodes = set(node_ids) & overlap\n",
    "    edge_index = data['edge_index']\n",
    "    \n",
    "    # Convert edge indices to edges represented by node IDs\n",
    "    edge_id_pairs = [(node_ids[i], node_ids[j]) for i, j in edge_index.T]\n",
    "    \n",
    "    # Filter edges to keep only those where both nodes are in the overlap set\n",
    "    filtered_edge_id_pairs = [\n",
    "        (u, v) for u, v in edge_id_pairs if u in overlap_nodes and v in overlap_nodes\n",
    "    ]\n",
    "    \n",
    "    # Generate a new list of node IDs and their corresponding indices\n",
    "    overlap_nodes_list = sorted(overlap_nodes)\n",
    "    node_to_new_index = {node_id: i for i, node_id in enumerate(overlap_nodes_list)}\n",
    "    # print(node_to_new_index)\n",
    "    \n",
    "    # Convert filtered edges back to edge indices based on the new node ID positions\n",
    "    new_edge_index = np.array(\n",
    "        [\n",
    "            [node_to_new_index[u], node_to_new_index[v]]\n",
    "            for u, v in filtered_edge_id_pairs\n",
    "        ]\n",
    "    ).T\n",
    "    \n",
    "    # Save the filtered data to a new .npz file\n",
    "    output_path = file[:-13] + \"data.npz\"\n",
    "    np.savez(output_path, edge_index=new_edge_index, node_ids=overlap_nodes_list)\n",
    "    \n",
    "    print(f\"New .npz file created at {output_path} with {len(node_ids)} / {len(overlap_nodes_list)} nodes. and {len(edge_index[0])} / {len(new_edge_index)} edges, {max(new_edge_index[0])}\")\n",
    "\n"
   ]
  },
  {
   "cell_type": "code",
   "execution_count": 35,
   "metadata": {},
   "outputs": [
    {
     "name": "stdout",
     "output_type": "stream",
     "text": [
      "Renamed 'datasets/BioGRID/processed/obnb_data.npz' to 'datasets/BioGRID/processed/data.npz'\n",
      "Renamed 'datasets/BioPlex/processed/obnb_data.npz' to 'datasets/BioPlex/processed/data.npz'\n",
      "Renamed 'datasets/ComPPIHumanInt/processed/obnb_data.npz' to 'datasets/ComPPIHumanInt/processed/data.npz'\n",
      "Renamed 'datasets/ConsensusPathDB/processed/obnb_data.npz' to 'datasets/ConsensusPathDB/processed/data.npz'\n",
      "Renamed 'datasets/FunCoup/processed/obnb_data.npz' to 'datasets/FunCoup/processed/data.npz'\n",
      "Renamed 'datasets/HIPPIE/processed/obnb_data.npz' to 'datasets/HIPPIE/processed/data.npz'\n",
      "Renamed 'datasets/HuMAP/processed/obnb_data.npz' to 'datasets/HuMAP/processed/data.npz'\n",
      "Renamed 'datasets/HuRI/processed/obnb_data.npz' to 'datasets/HuRI/processed/data.npz'\n",
      "Renamed 'datasets/OmniPath/processed/obnb_data.npz' to 'datasets/OmniPath/processed/data.npz'\n",
      "Renamed 'datasets/PCNet/processed/obnb_data.npz' to 'datasets/PCNet/processed/data.npz'\n",
      "Renamed 'datasets/ProteomeHD/processed/obnb_data.npz' to 'datasets/ProteomeHD/processed/data.npz'\n",
      "Renamed 'datasets/SIGNOR/processed/obnb_data.npz' to 'datasets/SIGNOR/processed/data.npz'\n",
      "Renamed 'datasets/STRING/processed/obnb_data.npz' to 'datasets/STRING/processed/data.npz'\n",
      "All files have been renamed.\n"
     ]
    }
   ],
   "source": [
    "import os\n",
    "\n",
    "# List of .npz files to rename\n",
    "npz_files = [\n",
    "    \"datasets/BioGRID/processed/obnb_data.npz\",\n",
    "    \"datasets/BioPlex/processed/obnb_data.npz\",\n",
    "    \"datasets/ComPPIHumanInt/processed/obnb_data.npz\",\n",
    "    \"datasets/ConsensusPathDB/processed/obnb_data.npz\",\n",
    "    \"datasets/FunCoup/processed/obnb_data.npz\",\n",
    "    \"datasets/HIPPIE/processed/obnb_data.npz\",\n",
    "    \"datasets/HuMAP/processed/obnb_data.npz\",\n",
    "    \"datasets/HuRI/processed/obnb_data.npz\",\n",
    "    \"datasets/OmniPath/processed/obnb_data.npz\",\n",
    "    \"datasets/PCNet/processed/obnb_data.npz\",\n",
    "    \"datasets/ProteomeHD/processed/obnb_data.npz\",\n",
    "    \"datasets/SIGNOR/processed/obnb_data.npz\",\n",
    "    \"datasets/STRING/processed/obnb_data.npz\",\n",
    "]\n",
    "\n",
    "for file in npz_files:\n",
    "    # Extract the directory and the original filename\n",
    "    directory, original_filename = os.path.split(file)\n",
    "    \n",
    "    # Create the new filename by removing the 'obnb_' prefix\n",
    "    new_filename = original_filename.replace(\"obnb_\", \"\")\n",
    "    \n",
    "    # Combine the directory with the new filename\n",
    "    new_filepath = os.path.join(directory, new_filename)\n",
    "    \n",
    "    # Rename the file\n",
    "    os.rename(file, new_filepath)\n",
    "    \n",
    "    print(f\"Renamed '{file}' to '{new_filepath}'\")\n",
    "\n",
    "print(\"All files have been renamed.\")\n"
   ]
  },
  {
   "cell_type": "code",
   "execution_count": 19,
   "metadata": {},
   "outputs": [],
   "source": [
    "npz_files = [\n",
    "    \"datasets/BioGRID/processed/obnb_data.npz\",\n",
    "    \"datasets/BioPlex/processed/obnb_data.npz\",\n",
    "    \"datasets/ComPPIHumanInt/processed/obnb_data.npz\",\n",
    "    \"datasets/ConsensusPathDB/processed/obnb_data.npz\",\n",
    "    \"datasets/FunCoup/processed/obnb_data.npz\",\n",
    "    \"datasets/HIPPIE/processed/obnb_data.npz\",\n",
    "    \"datasets/HuMAP/processed/obnb_data.npz\",\n",
    "    \"datasets/HuRI/processed/obnb_data.npz\",\n",
    "    \"datasets/OmniPath/processed/obnb_data.npz\",\n",
    "    \"datasets/PCNet/processed/obnb_data.npz\",\n",
    "    \"datasets/ProteomeHD/processed/obnb_data.npz\",\n",
    "    \"datasets/SIGNOR/processed/obnb_data.npz\",\n",
    "    \"datasets/STRING/processed/obnb_data.npz\",\n",
    "]\n",
    "\n",
    "# Load the external ID sets\n",
    "goaid = pd.read_csv(\"Embeddings/GOA/gene_entrezID.csv\", header=None)\n",
    "dnabertid = pd.read_csv(\"Embeddings/DNABert/dnabert_allid.csv\", header=None)\n",
    "gene2vecid = pd.read_csv(\"Embeddings/Gene2Vec/gene2vec_id.csv\", header=None)\n",
    "ontoproteinid = pd.read_csv(\"Embeddings/ontoprotein/ids.csv\", header=None)\n",
    "\n",
    "# Create sets of IDs\n",
    "goa_id = set([id for id in list(goaid[0])])\n",
    "dnabert_id = set([id for id in list(dnabertid[0])])\n",
    "gene2vec_id = set([id for id in list(gene2vecid[0])])\n",
    "ontoprotein_id = set([id for id in list(ontoproteinid[0])])\n",
    "overlap = goa_id & dnabert_id & gene2vec_id & ontoprotein_id\n",
    "pd.Series(list(overlap)).to_csv(\"selected_genes.txt\", header=False, index=False)\n",
    "# data = np.load(file)\n",
    "# node_ids = list(data['node_ids'])\n",
    "# overlap_nodes = set(node_ids) & overlap\n",
    "# print(f\"Initial overlap count: {len(overlap)}\")"
   ]
  },
  {
   "cell_type": "code",
   "execution_count": 22,
   "metadata": {},
   "outputs": [],
   "source": [
    "gene_list = list(pd.read_csv(\"selected_genes.txt\", header=None)[0])"
   ]
  },
  {
   "cell_type": "code",
   "execution_count": 34,
   "metadata": {},
   "outputs": [
    {
     "data": {
      "text/plain": [
       "5760"
      ]
     },
     "execution_count": 34,
     "metadata": {},
     "output_type": "execute_result"
    }
   ],
   "source": [
    "d = np.load(\"datasets/BioGRID/processed/data.npz\")\n",
    "len(d['node_ids'])"
   ]
  },
  {
   "cell_type": "code",
   "execution_count": 24,
   "metadata": {},
   "outputs": [
    {
     "data": {
      "text/plain": [
       "[1,\n",
       " 2,\n",
       " 10,\n",
       " 12,\n",
       " 393229,\n",
       " 19,\n",
       " 21,\n",
       " 24,\n",
       " 163882,\n",
       " 47,\n",
       " 49,\n",
       " 54,\n",
       " 58,\n",
       " 60,\n",
       " 98365,\n",
       " 70,\n",
       " 71,\n",
       " 72,\n",
       " 852042,\n",
       " 393293,\n",
       " 852053,\n",
       " 88,\n",
       " 89,\n",
       " 90,\n",
       " 91,\n",
       " 92,\n",
       " 93,\n",
       " 95,\n",
       " 852065,\n",
       " 98,\n",
       " 101,\n",
       " 102,\n",
       " 104,\n",
       " 108,\n",
       " 115,\n",
       " 852088,\n",
       " 120,\n",
       " 124,\n",
       " 125,\n",
       " 126,\n",
       " 127,\n",
       " 852096,\n",
       " 131,\n",
       " 133,\n",
       " 140,\n",
       " 148,\n",
       " 150,\n",
       " 152,\n",
       " 154,\n",
       " 155,\n",
       " 161,\n",
       " 165,\n",
       " 174,\n",
       " 177,\n",
       " 178,\n",
       " 185,\n",
       " 187,\n",
       " 189,\n",
       " 197,\n",
       " 213,\n",
       " 214,\n",
       " 216,\n",
       " 217,\n",
       " 218,\n",
       " 219,\n",
       " 223,\n",
       " 224,\n",
       " 226,\n",
       " 231,\n",
       " 240,\n",
       " 242,\n",
       " 246,\n",
       " 247,\n",
       " 33015,\n",
       " 249,\n",
       " 250,\n",
       " 266,\n",
       " 267,\n",
       " 271,\n",
       " 272,\n",
       " 274,\n",
       " 196883,\n",
       " 327957,\n",
       " 280,\n",
       " 283,\n",
       " 285,\n",
       " 286,\n",
       " 287,\n",
       " 288,\n",
       " 852255,\n",
       " 290,\n",
       " 557348,\n",
       " 33062,\n",
       " 131368,\n",
       " 301,\n",
       " 302,\n",
       " 131377,\n",
       " 306,\n",
       " 307,\n",
       " 308,\n",
       " 310,\n",
       " 311,\n",
       " 164153,\n",
       " 316,\n",
       " 320,\n",
       " 321,\n",
       " 323,\n",
       " 325,\n",
       " 327,\n",
       " 852296,\n",
       " 328,\n",
       " 330,\n",
       " 332,\n",
       " 335,\n",
       " 337,\n",
       " 343,\n",
       " 345,\n",
       " 346,\n",
       " 347,\n",
       " 348,\n",
       " 350,\n",
       " 351,\n",
       " 354,\n",
       " 357,\n",
       " 358,\n",
       " 360,\n",
       " 362,\n",
       " 366,\n",
       " 372,\n",
       " 374,\n",
       " 377,\n",
       " 378,\n",
       " 379,\n",
       " 98682,\n",
       " 382,\n",
       " 387,\n",
       " 389,\n",
       " 390,\n",
       " 393,\n",
       " 395,\n",
       " 397,\n",
       " 852369,\n",
       " 131474,\n",
       " 403,\n",
       " 852373,\n",
       " 98711,\n",
       " 408,\n",
       " 409,\n",
       " 328092,\n",
       " 197021,\n",
       " 421,\n",
       " 65960,\n",
       " 65963,\n",
       " 427,\n",
       " 432,\n",
       " 433,\n",
       " 852402,\n",
       " 98741,\n",
       " 65979,\n",
       " 852419,\n",
       " 65988,\n",
       " 33225,\n",
       " 463,\n",
       " 65999,\n",
       " 66002,\n",
       " 131540,\n",
       " 468,\n",
       " 66008,\n",
       " 473,\n",
       " 131544,\n",
       " 476,\n",
       " 477,\n",
       " 478,\n",
       " 479,\n",
       " 480,\n",
       " 481,\n",
       " 483,\n",
       " 486,\n",
       " 488,\n",
       " 490,\n",
       " 492,\n",
       " 33265,\n",
       " 66035,\n",
       " 33268,\n",
       " 66037,\n",
       " 100532726,\n",
       " 66042,\n",
       " 100532731,\n",
       " 523,\n",
       " 525,\n",
       " 527,\n",
       " 528,\n",
       " 529,\n",
       " 534,\n",
       " 535,\n",
       " 537,\n",
       " 66079,\n",
       " 66082,\n",
       " 547,\n",
       " 554,\n",
       " 558,\n",
       " 563,\n",
       " 66102,\n",
       " 566,\n",
       " 570,\n",
       " 572,\n",
       " 578,\n",
       " 581,\n",
       " 590,\n",
       " 100270671,\n",
       " 595,\n",
       " 596,\n",
       " 597,\n",
       " 599,\n",
       " 604,\n",
       " 605,\n",
       " 608,\n",
       " 617,\n",
       " 624,\n",
       " 629,\n",
       " 633,\n",
       " 636,\n",
       " 66179,\n",
       " 649,\n",
       " 33418,\n",
       " 650,\n",
       " 656,\n",
       " 659,\n",
       " 660,\n",
       " 662,\n",
       " 665,\n",
       " 33435,\n",
       " 668,\n",
       " 669,\n",
       " 671,\n",
       " 672,\n",
       " 677,\n",
       " 683,\n",
       " 684,\n",
       " 686,\n",
       " 688,\n",
       " 696,\n",
       " 328381,\n",
       " 701,\n",
       " 33473,\n",
       " 716,\n",
       " 718,\n",
       " 66255,\n",
       " 722,\n",
       " 725,\n",
       " 726,\n",
       " 66269,\n",
       " 66277,\n",
       " 852709,\n",
       " 744,\n",
       " 752,\n",
       " 753,\n",
       " 754,\n",
       " 757,\n",
       " 758,\n",
       " 852726,\n",
       " 759,\n",
       " 760,\n",
       " 761,\n",
       " 762,\n",
       " 328440,\n",
       " 766,\n",
       " 778,\n",
       " 783,\n",
       " 492311,\n",
       " 66328,\n",
       " 164633,\n",
       " 797,\n",
       " 131870,\n",
       " 33565,\n",
       " 800,\n",
       " 131873,\n",
       " 66337,\n",
       " 810,\n",
       " 811,\n",
       " 813,\n",
       " 164656,\n",
       " 66353,\n",
       " 818,\n",
       " 131890,\n",
       " 820,\n",
       " 822,\n",
       " 823,\n",
       " 824,\n",
       " 825,\n",
       " 827,\n",
       " 829,\n",
       " 830,\n",
       " 838,\n",
       " 839,\n",
       " 841,\n",
       " 846,\n",
       " 131920,\n",
       " 66402,\n",
       " 866,\n",
       " 871,\n",
       " 874,\n",
       " 66412,\n",
       " 881,\n",
       " 887,\n",
       " 66425,\n",
       " 905,\n",
       " 911,\n",
       " 913,\n",
       " 915,\n",
       " 917,\n",
       " 919,\n",
       " 920,\n",
       " 921,\n",
       " 922,\n",
       " 923,\n",
       " 928,\n",
       " 929,\n",
       " 931,\n",
       " 939,\n",
       " 943,\n",
       " 944,\n",
       " 945,\n",
       " 946,\n",
       " 947,\n",
       " 950,\n",
       " 952,\n",
       " 852920,\n",
       " 957,\n",
       " 959,\n",
       " 66496,\n",
       " 960,\n",
       " 961,\n",
       " 962,\n",
       " 963,\n",
       " 965,\n",
       " 966,\n",
       " 969,\n",
       " 970,\n",
       " 975,\n",
       " 978,\n",
       " 852953,\n",
       " 987,\n",
       " 689116,\n",
       " 993,\n",
       " 996,\n",
       " 999,\n",
       " 1001,\n",
       " 1002,\n",
       " 1008,\n",
       " 1010,\n",
       " 66552,\n",
       " 1016,\n",
       " 1018,\n",
       " 1027,\n",
       " 1029,\n",
       " 1030,\n",
       " 1039,\n",
       " 132112,\n",
       " 1041,\n",
       " 1043,\n",
       " 1045,\n",
       " 1048,\n",
       " 1053,\n",
       " 1059,\n",
       " 1060,\n",
       " 1063,\n",
       " 1066,\n",
       " 1068,\n",
       " 99382,\n",
       " 1084,\n",
       " 1087,\n",
       " 132160,\n",
       " 1089,\n",
       " 1088,\n",
       " 1106,\n",
       " 1108,\n",
       " 1109,\n",
       " 1113,\n",
       " 1116,\n",
       " 1117,\n",
       " 66654,\n",
       " 1118,\n",
       " 1122,\n",
       " 1129,\n",
       " 1131,\n",
       " 1135,\n",
       " 1136,\n",
       " 1137,\n",
       " 1142,\n",
       " 1143,\n",
       " 1152,\n",
       " 1153,\n",
       " 1154,\n",
       " 132228,\n",
       " 1158,\n",
       " 1163,\n",
       " 1173,\n",
       " 1176,\n",
       " 1178,\n",
       " 1179,\n",
       " 1180,\n",
       " 1181,\n",
       " 1184,\n",
       " 1187,\n",
       " 1188,\n",
       " 853161,\n",
       " 66733,\n",
       " 1198,\n",
       " 33968,\n",
       " 230582,\n",
       " 1213,\n",
       " 1215,\n",
       " 1232,\n",
       " 1233,\n",
       " 1234,\n",
       " 1235,\n",
       " 1240,\n",
       " 66790,\n",
       " 1258,\n",
       " 1259,\n",
       " 1261,\n",
       " 1265,\n",
       " 1266,\n",
       " 1272,\n",
       " 1277,\n",
       " 1281,\n",
       " 66824,\n",
       " 1290,\n",
       " 1291,\n",
       " 1293,\n",
       " 1295,\n",
       " 165140,\n",
       " 1301,\n",
       " 230678,\n",
       " 1303,\n",
       " 1306,\n",
       " 1308,\n",
       " 1310,\n",
       " 1312,\n",
       " 1315,\n",
       " 1316,\n",
       " 296234,\n",
       " 1327,\n",
       " 1329,\n",
       " 1337,\n",
       " 1340,\n",
       " 1345,\n",
       " 1346,\n",
       " 1347,\n",
       " 1349,\n",
       " 1350,\n",
       " 34119,\n",
       " 66889,\n",
       " 1364,\n",
       " 1365,\n",
       " 1366,\n",
       " 853340,\n",
       " 1374,\n",
       " 230752,\n",
       " 1378,\n",
       " 1380,\n",
       " 1382,\n",
       " 1384,\n",
       " 1385,\n",
       " 1387,\n",
       " 853361,\n",
       " 1394,\n",
       " 1399,\n",
       " 1404,\n",
       " 1410,\n",
       " 1411,\n",
       " 230789,\n",
       " 1420,\n",
       " 1421,\n",
       " 1427,\n",
       " 66968,\n",
       " 1432,\n",
       " 1434,\n",
       " 1436,\n",
       " 1438,\n",
       " 1440,\n",
       " 1444,\n",
       " 1453,\n",
       " 1455,\n",
       " 1456,\n",
       " 66993,\n",
       " 1457,\n",
       " 1459,\n",
       " 1462,\n",
       " 105940408,\n",
       " 1465,\n",
       " 1468,\n",
       " 1469,\n",
       " 1470,\n",
       " 1473,\n",
       " 1476,\n",
       " 1479,\n",
       " 1487,\n",
       " 1488,\n",
       " 1489,\n",
       " 1493,\n",
       " 1499,\n",
       " 1501,\n",
       " 1503,\n",
       " 1504,\n",
       " 1506,\n",
       " 1508,\n",
       " 1509,\n",
       " 1510,\n",
       " 1511,\n",
       " 34277,\n",
       " 1513,\n",
       " 1514,\n",
       " 1515,\n",
       " 1520,\n",
       " 1521,\n",
       " 1528,\n",
       " 1534,\n",
       " 1538,\n",
       " 1539,\n",
       " 1540,\n",
       " 1543,\n",
       " 1544,\n",
       " 1545,\n",
       " 1548,\n",
       " 67085,\n",
       " 1549,\n",
       " 1553,\n",
       " 1555,\n",
       " 1557,\n",
       " 1558,\n",
       " 1559,\n",
       " 1562,\n",
       " 1565,\n",
       " 1571,\n",
       " 1572,\n",
       " 1573,\n",
       " 329252,\n",
       " 1576,\n",
       " 1577,\n",
       " 1579,\n",
       " 1580,\n",
       " 1581,\n",
       " 1583,\n",
       " 1584,\n",
       " 1585,\n",
       " 1586,\n",
       " 1588,\n",
       " 1589,\n",
       " 1591,\n",
       " 1593,\n",
       " 1594,\n",
       " 1595,\n",
       " 1601,\n",
       " 1602,\n",
       " 1603,\n",
       " 1604,\n",
       " 853573,\n",
       " 67138,\n",
       " 1608,\n",
       " 1609,\n",
       " 1610,\n",
       " 1613,\n",
       " 1617,\n",
       " 1636,\n",
       " 1639,\n",
       " 34411,\n",
       " 1645,\n",
       " 1646,\n",
       " 1647,\n",
       " 1654,\n",
       " 1668,\n",
       " 853638,\n",
       " 1671,\n",
       " 1670,\n",
       " 1672,\n",
       " 67220,\n",
       " 67226,\n",
       " 67245,\n",
       " 132789,\n",
       " 67260,\n",
       " 1727,\n",
       " 1729,\n",
       " 1734,\n",
       " 100042450,\n",
       " 1748,\n",
       " 1755,\n",
       " 100061,\n",
       " 1759,\n",
       " 1760,\n",
       " 1769,\n",
       " 1775,\n",
       " 1776,\n",
       " 1780,\n",
       " 1781,\n",
       " 1783,\n",
       " 1785,\n",
       " 1788,\n",
       " 1789,\n",
       " 165631,\n",
       " 67328,\n",
       " 1794,\n",
       " 1796,\n",
       " 1803,\n",
       " 1804,\n",
       " 1806,\n",
       " 1808,\n",
       " 1811,\n",
       " 132884,\n",
       " 1813,\n",
       " 1814,\n",
       " 1815,\n",
       " 1816,\n",
       " 67356,\n",
       " 1824,\n",
       " 1827,\n",
       " 1828,\n",
       " 1829,\n",
       " 1830,\n",
       " 1832,\n",
       " 1834,\n",
       " 1838,\n",
       " 1839,\n",
       " 1845,\n",
       " 1852,\n",
       " 1855,\n",
       " 1857,\n",
       " 1859,\n",
       " 1861,\n",
       " 231252,\n",
       " 67414,\n",
       " 165721,\n",
       " 1893,\n",
       " 67433,\n",
       " 67434,\n",
       " 67442,\n",
       " 1907,\n",
       " 1910,\n",
       " 1912,\n",
       " 853882,\n",
       " 1915,\n",
       " 1917,\n",
       " 1936,\n",
       " 1938,\n",
       " 67477,\n",
       " 1942,\n",
       " 133015,\n",
       " 133022,\n",
       " 1950,\n",
       " 1955,\n",
       " 1956,\n",
       " 1958,\n",
       " 67495,\n",
       " 329641,\n",
       " 1964,\n",
       " 1965,\n",
       " 1967,\n",
       " 1969,\n",
       " 67509,\n",
       " 1973,\n",
       " 1975,\n",
       " 1977,\n",
       " 1978,\n",
       " 1981,\n",
       " 1982,\n",
       " 1983,\n",
       " 1990,\n",
       " 1991,\n",
       " 1992,\n",
       " 1993,\n",
       " 1994,\n",
       " 2000,\n",
       " 2006,\n",
       " 2011,\n",
       " 2013,\n",
       " 2014,\n",
       " 2017,\n",
       " 2021,\n",
       " 2023,\n",
       " 2026,\n",
       " 2029,\n",
       " 2030,\n",
       " 2033,\n",
       " 2034,\n",
       " 2035,\n",
       " 2036,\n",
       " 2038,\n",
       " 2039,\n",
       " 2040,\n",
       " 2041,\n",
       " 100534273,\n",
       " 2050,\n",
       " 2059,\n",
       " 231440,\n",
       " 2065,\n",
       " 2066,\n",
       " 2069,\n",
       " 67606,\n",
       " 2081,\n",
       " 2086,\n",
       " 2100,\n",
       " 2101,\n",
       " 2104,\n",
       " 2107,\n",
       " 34882,\n",
       " 2121,\n",
       " 2124,\n",
       " 2125,\n",
       " 2130,\n",
       " 2131,\n",
       " 2134,\n",
       " 34903,\n",
       " 2150,\n",
       " 329831,\n",
       " 2152,\n",
       " 67690,\n",
       " 2155,\n",
       " 2158,\n",
       " 2160,\n",
       " 2161,\n",
       " 2162,\n",
       " 2165,\n",
       " 67702,\n",
       " 2167,\n",
       " 2168,\n",
       " 2169,\n",
       " 67703,\n",
       " 2171,\n",
       " 166012,\n",
       " 2175,\n",
       " 2180,\n",
       " 2181,\n",
       " 2182,\n",
       " 2185,\n",
       " 2188,\n",
       " 2191,\n",
       " 2195,\n",
       " 2197,\n",
       " 2200,\n",
       " 2201,\n",
       " 2203,\n",
       " 2204,\n",
       " 2205,\n",
       " 2206,\n",
       " 2208,\n",
       " 2209,\n",
       " 2212,\n",
       " 2213,\n",
       " 2214,\n",
       " 2215,\n",
       " 67749,\n",
       " 67753,\n",
       " 2217,\n",
       " 2219,\n",
       " 2220,\n",
       " 493753,\n",
       " 133308,\n",
       " 67775,\n",
       " 35007,\n",
       " 2246,\n",
       " 2256,\n",
       " 231633,\n",
       " 2257,\n",
       " 2258,\n",
       " 2260,\n",
       " 2262,\n",
       " 2268,\n",
       " 2274,\n",
       " 2280,\n",
       " 2295,\n",
       " 2296,\n",
       " 2298,\n",
       " 2303,\n",
       " 2304,\n",
       " 2305,\n",
       " 2307,\n",
       " 2308,\n",
       " 2309,\n",
       " 2313,\n",
       " 2316,\n",
       " 2317,\n",
       " 2318,\n",
       " 2319,\n",
       " 395534,\n",
       " 2326,\n",
       " 2327,\n",
       " 2328,\n",
       " 67865,\n",
       " 2329,\n",
       " 2330,\n",
       " 2331,\n",
       " 67867,\n",
       " 2335,\n",
       " 493861,\n",
       " 2346,\n",
       " 2348,\n",
       " 2350,\n",
       " 2352,\n",
       " 67893,\n",
       " 2358,\n",
       " 231760,\n",
       " 133482,\n",
       " 231798,\n",
       " 67968,\n",
       " 35223,\n",
       " 35227,\n",
       " 133558,\n",
       " 395708,\n",
       " 2495,\n",
       " 100141515,\n",
       " 2512,\n",
       " 2517,\n",
       " 2520,\n",
       " 2523,\n",
       " 2524,\n",
       " 2525,\n",
       " 2527,\n",
       " 2528,\n",
       " 2530,\n",
       " 2532,\n",
       " 2534,\n",
       " 2537,\n",
       " 166378,\n",
       " 2539,\n",
       " 2542,\n",
       " 2543,\n",
       " 2553,\n",
       " 2555,\n",
       " 2561,\n",
       " 2564,\n",
       " 2567,\n",
       " 2569,\n",
       " 2570,\n",
       " 2585,\n",
       " 2589,\n",
       " 2590,\n",
       " 494115,\n",
       " 133688,\n",
       " 133690,\n",
       " 2620,\n",
       " 2624,\n",
       " 2632,\n",
       " 2633,\n",
       " 2638,\n",
       " 2639,\n",
       " 2645,\n",
       " 2651,\n",
       " 2664,\n",
       " 2665,\n",
       " 2673,\n",
       " 2678,\n",
       " 2683,\n",
       " 2686,\n",
       " 2687,\n",
       " 2689,\n",
       " 559746,\n",
       " 2690,\n",
       " 2692,\n",
       " 68233,\n",
       " 2703,\n",
       " 2705,\n",
       " 2706,\n",
       " 2709,\n",
       " 363168,\n",
       " 2734,\n",
       " 2738,\n",
       " 2740,\n",
       " 2744,\n",
       " 2746,\n",
       " 2765,\n",
       " 2767,\n",
       " 2768,\n",
       " 2769,\n",
       " 330450,\n",
       " 2775,\n",
       " 2776,\n",
       " 2782,\n",
       " 2784,\n",
       " 2785,\n",
       " 2786,\n",
       " 2787,\n",
       " 2788,\n",
       " 2790,\n",
       " 2791,\n",
       " 2793,\n",
       " 101100,\n",
       " 232174,\n",
       " 2798,\n",
       " 2799,\n",
       " 2806,\n",
       " 2810,\n",
       " 2811,\n",
       " 2813,\n",
       " 2814,\n",
       " 2817,\n",
       " 2822,\n",
       " 2823,\n",
       " 2824,\n",
       " 2829,\n",
       " 2831,\n",
       " 2832,\n",
       " 2833,\n",
       " 2834,\n",
       " 2838,\n",
       " 2844,\n",
       " 2845,\n",
       " 2852,\n",
       " 2853,\n",
       " 2854,\n",
       " 2857,\n",
       " 68393,\n",
       " 854827,\n",
       " 2859,\n",
       " 822061,\n",
       " 2865,\n",
       " 2868,\n",
       " 2869,\n",
       " 2872,\n",
       " 2876,\n",
       " 2879,\n",
       " 35652,\n",
       " 2885,\n",
       " 2887,\n",
       " 2888,\n",
       " 2889,\n",
       " 2894,\n",
       " 2896,\n",
       " 2907,\n",
       " 2909,\n",
       " 2919,\n",
       " 2921,\n",
       " 68460,\n",
       " 2932,\n",
       " 854901,\n",
       " 2934,\n",
       " 2938,\n",
       " 854910,\n",
       " 2944,\n",
       " 2946,\n",
       " 2947,\n",
       " 2948,\n",
       " 2949,\n",
       " 494470,\n",
       " 2950,\n",
       " 2952,\n",
       " 35724,\n",
       " 2963,\n",
       " 396184,\n",
       " 2969,\n",
       " 166815,\n",
       " 2975,\n",
       " 2980,\n",
       " 2981,\n",
       " 494504,\n",
       " 2984,\n",
       " 2992,\n",
       " 2993,\n",
       " 2994,\n",
       " 2996,\n",
       " 2999,\n",
       " 3002,\n",
       " 396218,\n",
       " 3004,\n",
       " 3003,\n",
       " 68554,\n",
       " 3030,\n",
       " 3043,\n",
       " 3045,\n",
       " 3046,\n",
       " 3047,\n",
       " 3048,\n",
       " 3049,\n",
       " 855020,\n",
       " 3052,\n",
       " 3054,\n",
       " 3061,\n",
       " 723961,\n",
       " 3066,\n",
       " 199675,\n",
       " 3068,\n",
       " 3069,\n",
       " 3073,\n",
       " 3075,\n",
       " 3077,\n",
       " 3078,\n",
       " 3080,\n",
       " 3084,\n",
       " 3091,\n",
       " 3093,\n",
       " 199704,\n",
       " 3105,\n",
       " 3106,\n",
       " 3107,\n",
       " 199713,\n",
       " 3109,\n",
       " 3111,\n",
       " 199720,\n",
       " 35881,\n",
       " 3112,\n",
       " ...]"
      ]
     },
     "execution_count": 24,
     "metadata": {},
     "output_type": "execute_result"
    }
   ],
   "source": [
    "list(gene_list[0])"
   ]
  },
  {
   "cell_type": "code",
   "execution_count": 10,
   "metadata": {},
   "outputs": [
    {
     "name": "stdout",
     "output_type": "stream",
     "text": [
      "7403\n"
     ]
    },
    {
     "name": "stderr",
     "output_type": "stream",
     "text": [
      "remove unmapped edge: 100%|██████████| 1554790/1554790 [00:02<00:00, 646222.50it/s]\n"
     ]
    },
    {
     "name": "stdout",
     "output_type": "stream",
     "text": [
      "New .npz file created at datasets/BioGRID/processed/data.npz with 5760 overlapping nodes.\n"
     ]
    },
    {
     "name": "stderr",
     "output_type": "stream",
     "text": [
      "remove unmapped edge: 100%|██████████| 71004/71004 [00:00<00:00, 636598.77it/s]\n"
     ]
    },
    {
     "name": "stdout",
     "output_type": "stream",
     "text": [
      "New .npz file created at datasets/BioPlex/processed/data.npz with 2537 overlapping nodes.\n"
     ]
    },
    {
     "name": "stderr",
     "output_type": "stream",
     "text": [
      "remove unmapped edge: 100%|██████████| 699620/699620 [00:01<00:00, 631928.27it/s]\n"
     ]
    },
    {
     "name": "stdout",
     "output_type": "stream",
     "text": [
      "New .npz file created at datasets/ComPPIHumanInt/processed/data.npz with 5487 overlapping nodes.\n"
     ]
    },
    {
     "name": "stderr",
     "output_type": "stream",
     "text": [
      "remove unmapped edge: 100%|██████████| 10611416/10611416 [00:16<00:00, 639679.01it/s]\n"
     ]
    },
    {
     "name": "stdout",
     "output_type": "stream",
     "text": [
      "New .npz file created at datasets/ConsensusPathDB/processed/data.npz with 5697 overlapping nodes.\n"
     ]
    },
    {
     "name": "stderr",
     "output_type": "stream",
     "text": [
      "remove unmapped edge: 100%|██████████| 10037478/10037478 [00:14<00:00, 702368.29it/s]\n"
     ]
    },
    {
     "name": "stdout",
     "output_type": "stream",
     "text": [
      "New .npz file created at datasets/FunCoup/processed/data.npz with 5612 overlapping nodes.\n"
     ]
    },
    {
     "name": "stderr",
     "output_type": "stream",
     "text": [
      "remove unmapped edge: 100%|██████████| 1542044/1542044 [00:02<00:00, 646147.30it/s]\n"
     ]
    },
    {
     "name": "stdout",
     "output_type": "stream",
     "text": [
      "New .npz file created at datasets/HIPPIE/processed/data.npz with 5765 overlapping nodes.\n"
     ]
    },
    {
     "name": "stderr",
     "output_type": "stream",
     "text": [
      "remove unmapped edge: 100%|██████████| 2250780/2250780 [00:03<00:00, 634715.28it/s]\n"
     ]
    },
    {
     "name": "stdout",
     "output_type": "stream",
     "text": [
      "New .npz file created at datasets/HumanNet/processed/datdata.npz with 5825 overlapping nodes.\n"
     ]
    },
    {
     "name": "stderr",
     "output_type": "stream",
     "text": [
      "remove unmapped edge: 100%|██████████| 35052604/35052604 [00:52<00:00, 662809.06it/s]\n"
     ]
    },
    {
     "name": "stdout",
     "output_type": "stream",
     "text": [
      "New .npz file created at datasets/HuMAP/processed/data.npz with 4789 overlapping nodes.\n"
     ]
    },
    {
     "name": "stderr",
     "output_type": "stream",
     "text": [
      "remove unmapped edge: 100%|██████████| 103188/103188 [00:00<00:00, 568224.52it/s]\n"
     ]
    },
    {
     "name": "stdout",
     "output_type": "stream",
     "text": [
      "New .npz file created at datasets/HuRI/processed/data.npz with 2597 overlapping nodes.\n"
     ]
    },
    {
     "name": "stderr",
     "output_type": "stream",
     "text": [
      "remove unmapped edge: 100%|██████████| 289134/289134 [00:00<00:00, 684104.35it/s]\n"
     ]
    },
    {
     "name": "stdout",
     "output_type": "stream",
     "text": [
      "New .npz file created at datasets/OmniPath/processed/data.npz with 5200 overlapping nodes.\n"
     ]
    },
    {
     "name": "stderr",
     "output_type": "stream",
     "text": [
      "remove unmapped edge: 100%|██████████| 5365116/5365116 [00:07<00:00, 672004.80it/s]\n"
     ]
    },
    {
     "name": "stdout",
     "output_type": "stream",
     "text": [
      "New .npz file created at datasets/PCNet/processed/data.npz with 5737 overlapping nodes.\n"
     ]
    },
    {
     "name": "stderr",
     "output_type": "stream",
     "text": [
      "remove unmapped edge: 100%|██████████| 125172/125172 [00:00<00:00, 644003.96it/s]\n"
     ]
    },
    {
     "name": "stdout",
     "output_type": "stream",
     "text": [
      "New .npz file created at datasets/ProteomeHD/processed/data.npz with 651 overlapping nodes.\n"
     ]
    },
    {
     "name": "stderr",
     "output_type": "stream",
     "text": [
      "remove unmapped edge: 100%|██████████| 28676/28676 [00:00<00:00, 533655.73it/s]\n"
     ]
    },
    {
     "name": "stdout",
     "output_type": "stream",
     "text": [
      "New .npz file created at datasets/SIGNOR/processed/data.npz with 1940 overlapping nodes.\n"
     ]
    },
    {
     "name": "stderr",
     "output_type": "stream",
     "text": [
      "remove unmapped edge: 100%|██████████| 11019492/11019492 [00:17<00:00, 630982.16it/s]\n"
     ]
    },
    {
     "name": "stdout",
     "output_type": "stream",
     "text": [
      "New .npz file created at datasets/STRING/processed/data.npz with 5789 overlapping nodes.\n"
     ]
    }
   ],
   "source": [
    "import numpy as np\n",
    "import os\n",
    "from tqdm import tqdm\n",
    "import pandas as pd\n",
    "\n",
    "# List of .npz files to process\n",
    "npz_files = [\n",
    "    \"datasets/BioGRID/processed/data.npz\",\n",
    "    \"datasets/BioPlex/processed/data.npz\",\n",
    "    \"datasets/ComPPIHumanInt/processed/data.npz\",\n",
    "    \"datasets/ConsensusPathDB/processed/data.npz\",\n",
    "    \"datasets/FunCoup/processed/data.npz\",\n",
    "    \"datasets/HIPPIE/processed/data.npz\",\n",
    "    \"datasets/HumanNet/processed/data_xc.npz\",\n",
    "    \"datasets/HuMAP/processed/data.npz\",\n",
    "    \"datasets/HuRI/processed/data.npz\",\n",
    "    \"datasets/OmniPath/processed/data.npz\",\n",
    "    \"datasets/PCNet/processed/data.npz\",\n",
    "    \"datasets/ProteomeHD/processed/data.npz\",\n",
    "    \"datasets/SIGNOR/processed/data.npz\",\n",
    "    \"datasets/STRING/processed/data.npz\",\n",
    "]\n",
    "goaid = pd.read_csv(\"Embeddings/GOA/gene_entrezID.csv\", header=None)\n",
    "dnabertid = pd.read_csv(\"Embeddings/DNABert/dnabert_allid.csv\", header=None)\n",
    "gene2vecid = pd.read_csv(\"Embeddings/Gene2Vec/gene2vec_id.csv\", header=None)\n",
    "ontoproteinid = pd.read_csv(\"Embeddings/ontoprotein/ids.csv\", header=None)\n",
    "\n",
    "goa_id = set([str(id) for id in list(goaid[0])])\n",
    "dnabert_id = set([str(id) for id in list(dnabertid[0])])\n",
    "gene2vec_id = set([str(id) for id in list(gene2vecid[0])])\n",
    "ontoprotein_id = set([str(id) for id in list(ontoproteinid[0])])\n",
    "overlap = goa_id & dnabert_id & gene2vec_id & ontoprotein_id\n",
    "print(len(overlap))\n",
    "\n",
    "\n",
    "\n",
    "for file in npz_files:\n",
    "    data = np.load(file)\n",
    "    node_ids = set(list(data['node_ids']))\n",
    "    overlap_nodes = overlap & node_ids  # Intersect with existing overlap nodes# Create a new edge index with only the overlapping nodes\n",
    "    edge_index_list = []\n",
    "    data = np.load(file)\n",
    "    edge_index = data['edge_index']\n",
    "    node_ids = data['node_ids']\n",
    "\n",
    "    # Create a mapping from old indices to new indices (only for overlapping nodes)\n",
    "    old_to_new = {old_id: i for i, old_id in enumerate(node_ids) if old_id in overlap_nodes}\n",
    "    \n",
    "    # Filter the edge index to include only the overlapping nodes\n",
    "    filtered_edge_index = []\n",
    "    for i, j in tqdm(edge_index.T, desc=\"remove unmapped edge\"):\n",
    "        if node_ids[i] in old_to_new and node_ids[j] in old_to_new:\n",
    "            filtered_edge_index.append([old_to_new[node_ids[i]], old_to_new[node_ids[j]]])\n",
    "    \n",
    "    if filtered_edge_index:\n",
    "        edge_index_list.append(np.array(filtered_edge_index).T)\n",
    "\n",
    "    # Combine all filtered edge indicesif edge_index_list:\n",
    "        combined_edge_index = np.concatenate(edge_index_list, axis=1)\n",
    "    else:\n",
    "        combined_edge_index = np.empty((2, 0), dtype=int)\n",
    "\n",
    "    # Convert overlap_nodes to a sorted list (to maintain order)\n",
    "    overlap_nodes_list = sorted(list(overlap_nodes))\n",
    "\n",
    "    # Save the new .npz file\n",
    "    output_path = file[:-8] + \"data.npz\"\n",
    "    np.savez(output_path, edge_index=combined_edge_index, node_ids=overlap_nodes_list)\n",
    "\n",
    "    print(f\"New .npz file created at {output_path} with {len(overlap_nodes)} overlapping nodes.\")\n"
   ]
  },
  {
   "cell_type": "code",
   "execution_count": 13,
   "metadata": {},
   "outputs": [
    {
     "name": "stderr",
     "output_type": "stream",
     "text": [
      "/home/yuwei/anaconda3/envs/obnb/lib/python3.8/site-packages/tqdm/auto.py:21: TqdmWarning: IProgress not found. Please update jupyter and ipywidgets. See https://ipywidgets.readthedocs.io/en/stable/user_install.html\n",
      "  from .autonotebook import tqdm as notebook_tqdm\n"
     ]
    }
   ],
   "source": []
  },
  {
   "cell_type": "code",
   "execution_count": null,
   "metadata": {},
   "outputs": [],
   "source": [
    "from obnb.data.network.base import BaseNDExData\n",
    "from obnb.typing import Converter\n",
    "\n",
    "\n",
    "class ProteomeHD(BaseNDExData):\n",
    "    \"\"\"The ProteomeHD Protein Protein Interaction network.\"\"\"\n",
    "\n",
    "    cx_uuid = \"4cb4b0f3-83da-11e9-848d-0ac135e8bacf\"\n",
    "\n",
    "    def __init__(\n",
    "        self,\n",
    "        root: str,\n",
    "        *,\n",
    "        weighted: bool = False,\n",
    "        directed: bool = False,\n",
    "        largest_comp: bool = True,\n",
    "        gene_id_converter: Converter = \"HumanEntrez\",\n",
    "        **kwargs,\n",
    "    ):\n",
    "        \"\"\"Initialize the ProteomeHD network data.\"\"\"\n",
    "        super().__init__(\n",
    "            root,\n",
    "            weighted=weighted,\n",
    "            directed=directed,\n",
    "            largest_comp=largest_comp,\n",
    "            gene_id_converter=gene_id_converter,\n",
    "            cx_kwargs={\n",
    "                \"interaction_types\": [\"correlates-with\"],\n",
    "                \"node_id_prefix\": \"ncbigene\",\n",
    "                \"default_edge_weight\": 1.0,\n",
    "                \"edge_weight_attr_name\": \"score\",\n",
    "                \"use_node_alias\": True,\n",
    "            },\n",
    "            **kwargs,\n",
    "        )"
   ]
  },
  {
   "cell_type": "code",
   "execution_count": null,
   "metadata": {},
   "outputs": [],
   "source": [
    "import torch\n",
    "goaid = pd.read_csv(\"Embeddings/GOA/gene_entrezID.csv\", header=None)\n",
    "dnabertid = pd.read_csv(\"Embeddings/DNABert/dnabert_allid.csv\", header=None)\n",
    "gene2vecid = pd.read_csv(\"Embeddings/Gene2Vec/gene2vec_id.csv\", header=None)\n",
    "ontoproteinid = pd.read_csv(\"Embeddings/ontoprotein/ids.csv\", header=None)\n",
    "\n",
    "goa_id = set([str(id) for id in list(goaid[0])])\n",
    "dnabert_id = set([str(id) for id in list(dnabertid[0])])\n",
    "gene2vec_id = set([str(id) for id in list(gene2vecid[0])])\n",
    "ontoprotein_id = set([str(id) for id in list(ontoproteinid[0])])\n",
    "overlap = goa_id & dnabert_id & gene2vec_id & ontoprotein_id\n",
    "\n",
    "goaemb = torch.load(\"Embeddings/GOA/mean_20001.pt\")\n",
    "dnabertemb = torch.load(\"Embeddings/DNABert/dnabert_all.pt\")\n",
    "gene2vecemb = torch.load(\"Embeddings/Gene2Vec/gene2vec.pt\")\n",
    "ontoproteinemb = torch.load(\"Embeddings/ontoprotein/ontoprotein.pt\")"
   ]
  },
  {
   "cell_type": "code",
   "execution_count": 1,
   "metadata": {},
   "outputs": [
    {
     "name": "stderr",
     "output_type": "stream",
     "text": [
      "/home/yuwei/anaconda3/envs/obnb/lib/python3.8/site-packages/tqdm/auto.py:21: TqdmWarning: IProgress not found. Please update jupyter and ipywidgets. See https://ipywidgets.readthedocs.io/en/stable/user_install.html\n",
      "  from .autonotebook import tqdm as notebook_tqdm\n"
     ]
    },
    {
     "name": "stdout",
     "output_type": "stream",
     "text": [
      "Filtered embeddings saved to filtered_embeddings.json\n"
     ]
    }
   ],
   "source": [
    "import torch\n",
    "import json\n",
    "import pandas as pd\n",
    "\n",
    "# Load IDs from CSV files\n",
    "goaid = pd.read_csv(\"Embeddings/GOA/gene_entrezID.csv\", header=None)\n",
    "dnabertid = pd.read_csv(\"Embeddings/DNABert/dnabert_allid.csv\", header=None)\n",
    "gene2vecid = pd.read_csv(\"Embeddings/Gene2Vec/gene2vec_id.csv\", header=None)\n",
    "ontoproteinid = pd.read_csv(\"Embeddings/ontoprotein/ids.csv\", header=None)\n",
    "\n",
    "# Create sets of IDs\n",
    "goa_id = set([str(id) for id in list(goaid[0])])\n",
    "dnabert_id = set([str(id) for id in list(dnabertid[0])])\n",
    "gene2vec_id = set([str(id) for id in list(gene2vecid[0])])\n",
    "ontoprotein_id = set([str(id) for id in list(ontoproteinid[0])])\n",
    "overlap = goa_id & dnabert_id & gene2vec_id & ontoprotein_id\n",
    "\n",
    "# Load embeddings\n",
    "goaemb = torch.load(\"Embeddings/GOA/mean_20001.pt\")\n",
    "dnabertemb = torch.load(\"Embeddings/DNABert/dnabert_all.pt\")\n",
    "gene2vecemb = torch.load(\"Embeddings/Gene2Vec/gene2vec.pt\")\n",
    "ontoproteinemb = torch.load(\"Embeddings/ontoprotein/ontoprotein.pt\")\n",
    "\n",
    "# Create ID-to-embedding dictionaries\n",
    "goa_dict = {str(goaid[0][i]): goaemb[i].tolist() for i in range(len(goaid))}\n",
    "dnabert_dict = {str(dnabertid[0][i]): dnabertemb[i].tolist() for i in range(len(dnabertid))}\n",
    "gene2vec_dict = {str(gene2vecid[0][i]): gene2vecemb[i].tolist() for i in range(len(gene2vecid))}\n",
    "ontoprotein_dict = {str(ontoproteinid[0][i]): ontoproteinemb[i].tolist() for i in range(len(ontoproteinid))}\n",
    "filtered_goa = {id_: goa_dict[id_] for id_ in overlap if id_ in goa_dict}\n",
    "filtered_dnabert = {id_: dnabert_dict[id_] for id_ in overlap if id_ in dnabert_dict}\n",
    "filtered_gene2vec = {id_: gene2vec_dict[id_] for id_ in overlap if id_ in gene2vec_dict}\n",
    "filtered_ontoprotein = {id_: ontoprotein_dict[id_] for id_ in overlap if id_ in ontoprotein_dict}\n",
    "filtered_goa_gene2vec = {id_: goa_dict[id_] + gene2vec_dict[id_] for id_ in overlap if id_ in goa_dict and id_ in gene2vec_dict}\n",
    "filtered_goa_dnabert = {id_: goa_dict[id_] + dnabert_dict[id_] for id_ in overlap if id_ in goa_dict and id_ in dnabert_dict}\n",
    "\n",
    "# Create a new dictionary with only the overlapping IDs and their embeddings\n",
    "with open(\"filtered_goa_embeddings.json\", \"w\") as json_file:\n",
    "    json.dump(filtered_goa, json_file)\n",
    "with open(\"filtered_dnabert_embeddings.json\", \"w\") as json_file:\n",
    "    json.dump(filtered_dnabert, json_file)\n",
    "with open(\"filtered_gene2vec_embeddings.json\", \"w\") as json_file:\n",
    "    json.dump(filtered_gene2vec, json_file)\n",
    "with open(\"filtered_ontoprotein_embeddings.json\", \"w\") as json_file:\n",
    "    json.dump(filtered_ontoprotein, json_file)\n",
    "with open(\"filtered_goa_gene2vec_embeddings.json\", \"w\") as json_file:\n",
    "    json.dump(filtered_goa_gene2vec, json_file)\n",
    "with open(\"filtered_goa_dnabert_embeddings.json\", \"w\") as json_file:\n",
    "    json.dump(filtered_goa_dnabert, json_file)\n",
    "\n",
    "\n",
    "print(f\"Filtered embeddings saved to filtered_embeddings.json\")\n"
   ]
  },
  {
   "cell_type": "code",
   "execution_count": 3,
   "metadata": {},
   "outputs": [
    {
     "data": {
      "text/plain": [
       "7403"
      ]
     },
     "execution_count": 3,
     "metadata": {},
     "output_type": "execute_result"
    }
   ],
   "source": [
    "len(filtered_goa)"
   ]
  },
  {
   "cell_type": "code",
   "execution_count": 8,
   "metadata": {},
   "outputs": [
    {
     "data": {
      "text/plain": [
       "1224"
      ]
     },
     "execution_count": 8,
     "metadata": {},
     "output_type": "execute_result"
    }
   ],
   "source": [
    "len(list(filtered_goa_gene2vec.values())[0])"
   ]
  },
  {
   "cell_type": "code",
   "execution_count": 5,
   "metadata": {},
   "outputs": [
    {
     "name": "stderr",
     "output_type": "stream",
     "text": [
      "100%|██████████| 19765/19765 [00:00<00:00, 95305.69it/s] \n"
     ]
    },
    {
     "name": "stdout",
     "output_type": "stream",
     "text": [
      "Features saved to datasets/BioGRID/processed/goa.pt\n"
     ]
    },
    {
     "name": "stderr",
     "output_type": "stream",
     "text": [
      "100%|██████████| 19765/19765 [00:00<00:00, 239436.73it/s]\n"
     ]
    },
    {
     "name": "stdout",
     "output_type": "stream",
     "text": [
      "Features saved to datasets/BioGRID/processed/dnabert.pt\n"
     ]
    },
    {
     "name": "stderr",
     "output_type": "stream",
     "text": [
      "100%|██████████| 19765/19765 [00:00<00:00, 605820.07it/s]\n"
     ]
    },
    {
     "name": "stdout",
     "output_type": "stream",
     "text": [
      "Features saved to datasets/BioGRID/processed/gene2vec.pt\n"
     ]
    },
    {
     "name": "stderr",
     "output_type": "stream",
     "text": [
      "100%|██████████| 19765/19765 [00:00<00:00, 141710.12it/s]\n"
     ]
    },
    {
     "name": "stdout",
     "output_type": "stream",
     "text": [
      "Features saved to datasets/BioGRID/processed/ontoprotein.pt\n"
     ]
    },
    {
     "name": "stderr",
     "output_type": "stream",
     "text": [
      "100%|██████████| 19765/19765 [00:01<00:00, 19534.25it/s]\n"
     ]
    },
    {
     "name": "stdout",
     "output_type": "stream",
     "text": [
      "Features saved to datasets/BioGRID/processed/goa_gene2vec.pt\n"
     ]
    },
    {
     "name": "stderr",
     "output_type": "stream",
     "text": [
      "100%|██████████| 19765/19765 [00:00<00:00, 95727.86it/s] \n",
      "  7%|▋         | 1/14 [00:06<01:28,  6.84s/it]"
     ]
    },
    {
     "name": "stdout",
     "output_type": "stream",
     "text": [
      "Features saved to datasets/BioGRID/processed/goa_dnabert.pt\n"
     ]
    },
    {
     "name": "stderr",
     "output_type": "stream",
     "text": [
      "100%|██████████| 8108/8108 [00:00<00:00, 239214.26it/s]\n"
     ]
    },
    {
     "name": "stdout",
     "output_type": "stream",
     "text": [
      "Features saved to datasets/BioPlex/processed/goa.pt\n"
     ]
    },
    {
     "name": "stderr",
     "output_type": "stream",
     "text": [
      "100%|██████████| 8108/8108 [00:00<00:00, 235015.29it/s]\n"
     ]
    },
    {
     "name": "stdout",
     "output_type": "stream",
     "text": [
      "Features saved to datasets/BioPlex/processed/dnabert.pt\n"
     ]
    },
    {
     "name": "stderr",
     "output_type": "stream",
     "text": [
      "100%|██████████| 8108/8108 [00:00<00:00, 735852.36it/s]\n"
     ]
    },
    {
     "name": "stdout",
     "output_type": "stream",
     "text": [
      "Features saved to datasets/BioPlex/processed/gene2vec.pt\n"
     ]
    },
    {
     "name": "stderr",
     "output_type": "stream",
     "text": [
      "100%|██████████| 8108/8108 [00:00<00:00, 248721.32it/s]\n"
     ]
    },
    {
     "name": "stdout",
     "output_type": "stream",
     "text": [
      "Features saved to datasets/BioPlex/processed/ontoprotein.pt\n"
     ]
    },
    {
     "name": "stderr",
     "output_type": "stream",
     "text": [
      "100%|██████████| 8108/8108 [00:00<00:00, 156125.52it/s]\n"
     ]
    },
    {
     "name": "stdout",
     "output_type": "stream",
     "text": [
      "Features saved to datasets/BioPlex/processed/goa_gene2vec.pt\n"
     ]
    },
    {
     "name": "stderr",
     "output_type": "stream",
     "text": [
      "100%|██████████| 8108/8108 [00:00<00:00, 168313.55it/s]\n",
      " 14%|█▍        | 2/14 [00:09<00:50,  4.24s/it]"
     ]
    },
    {
     "name": "stdout",
     "output_type": "stream",
     "text": [
      "Features saved to datasets/BioPlex/processed/goa_dnabert.pt\n"
     ]
    },
    {
     "name": "stderr",
     "output_type": "stream",
     "text": [
      "100%|██████████| 17015/17015 [00:00<00:00, 155860.96it/s]\n"
     ]
    },
    {
     "name": "stdout",
     "output_type": "stream",
     "text": [
      "Features saved to datasets/ComPPIHumanInt/processed/goa.pt\n"
     ]
    },
    {
     "name": "stderr",
     "output_type": "stream",
     "text": [
      "100%|██████████| 17015/17015 [00:00<00:00, 201761.54it/s]\n"
     ]
    },
    {
     "name": "stdout",
     "output_type": "stream",
     "text": [
      "Features saved to datasets/ComPPIHumanInt/processed/dnabert.pt\n"
     ]
    },
    {
     "name": "stderr",
     "output_type": "stream",
     "text": [
      "100%|██████████| 17015/17015 [00:00<00:00, 585889.95it/s]\n"
     ]
    },
    {
     "name": "stdout",
     "output_type": "stream",
     "text": [
      "Features saved to datasets/ComPPIHumanInt/processed/gene2vec.pt\n"
     ]
    },
    {
     "name": "stderr",
     "output_type": "stream",
     "text": [
      "100%|██████████| 17015/17015 [00:00<00:00, 152939.66it/s]\n"
     ]
    },
    {
     "name": "stdout",
     "output_type": "stream",
     "text": [
      "Features saved to datasets/ComPPIHumanInt/processed/ontoprotein.pt\n"
     ]
    },
    {
     "name": "stderr",
     "output_type": "stream",
     "text": [
      "100%|██████████| 17015/17015 [00:00<00:00, 154053.89it/s]\n"
     ]
    },
    {
     "name": "stdout",
     "output_type": "stream",
     "text": [
      "Features saved to datasets/ComPPIHumanInt/processed/goa_gene2vec.pt\n"
     ]
    },
    {
     "name": "stderr",
     "output_type": "stream",
     "text": [
      "100%|██████████| 17015/17015 [00:00<00:00, 113017.58it/s]\n",
      " 21%|██▏       | 3/14 [00:14<00:50,  4.63s/it]"
     ]
    },
    {
     "name": "stdout",
     "output_type": "stream",
     "text": [
      "Features saved to datasets/ComPPIHumanInt/processed/goa_dnabert.pt\n"
     ]
    },
    {
     "name": "stderr",
     "output_type": "stream",
     "text": [
      "100%|██████████| 17735/17735 [00:00<00:00, 17983.08it/s] \n"
     ]
    },
    {
     "name": "stdout",
     "output_type": "stream",
     "text": [
      "Features saved to datasets/ConsensusPathDB/processed/goa.pt\n"
     ]
    },
    {
     "name": "stderr",
     "output_type": "stream",
     "text": [
      "100%|██████████| 17735/17735 [00:00<00:00, 240930.16it/s]\n"
     ]
    },
    {
     "name": "stdout",
     "output_type": "stream",
     "text": [
      "Features saved to datasets/ConsensusPathDB/processed/dnabert.pt\n"
     ]
    },
    {
     "name": "stderr",
     "output_type": "stream",
     "text": [
      "100%|██████████| 17735/17735 [00:00<00:00, 658347.11it/s]\n"
     ]
    },
    {
     "name": "stdout",
     "output_type": "stream",
     "text": [
      "Features saved to datasets/ConsensusPathDB/processed/gene2vec.pt\n"
     ]
    },
    {
     "name": "stderr",
     "output_type": "stream",
     "text": [
      "100%|██████████| 17735/17735 [00:00<00:00, 165917.92it/s]\n"
     ]
    },
    {
     "name": "stdout",
     "output_type": "stream",
     "text": [
      "Features saved to datasets/ConsensusPathDB/processed/ontoprotein.pt\n"
     ]
    },
    {
     "name": "stderr",
     "output_type": "stream",
     "text": [
      "100%|██████████| 17735/17735 [00:00<00:00, 164750.09it/s]\n"
     ]
    },
    {
     "name": "stdout",
     "output_type": "stream",
     "text": [
      "Features saved to datasets/ConsensusPathDB/processed/goa_gene2vec.pt\n"
     ]
    },
    {
     "name": "stderr",
     "output_type": "stream",
     "text": [
      "100%|██████████| 17735/17735 [00:00<00:00, 121204.29it/s]\n",
      " 29%|██▊       | 4/14 [00:20<00:52,  5.30s/it]"
     ]
    },
    {
     "name": "stdout",
     "output_type": "stream",
     "text": [
      "Features saved to datasets/ConsensusPathDB/processed/goa_dnabert.pt\n"
     ]
    },
    {
     "name": "stderr",
     "output_type": "stream",
     "text": [
      "100%|██████████| 17892/17892 [00:00<00:00, 136442.79it/s]\n"
     ]
    },
    {
     "name": "stdout",
     "output_type": "stream",
     "text": [
      "Features saved to datasets/FunCoup/processed/goa.pt\n"
     ]
    },
    {
     "name": "stderr",
     "output_type": "stream",
     "text": [
      "100%|██████████| 17892/17892 [00:00<00:00, 223614.89it/s]\n"
     ]
    },
    {
     "name": "stdout",
     "output_type": "stream",
     "text": [
      "Features saved to datasets/FunCoup/processed/dnabert.pt\n"
     ]
    },
    {
     "name": "stderr",
     "output_type": "stream",
     "text": [
      "100%|██████████| 17892/17892 [00:00<00:00, 555843.92it/s]\n"
     ]
    },
    {
     "name": "stdout",
     "output_type": "stream",
     "text": [
      "Features saved to datasets/FunCoup/processed/gene2vec.pt\n"
     ]
    },
    {
     "name": "stderr",
     "output_type": "stream",
     "text": [
      "100%|██████████| 17892/17892 [00:00<00:00, 19949.96it/s]\n"
     ]
    },
    {
     "name": "stdout",
     "output_type": "stream",
     "text": [
      "Features saved to datasets/FunCoup/processed/ontoprotein.pt\n"
     ]
    },
    {
     "name": "stderr",
     "output_type": "stream",
     "text": [
      "100%|██████████| 17892/17892 [00:00<00:00, 161279.17it/s]\n"
     ]
    },
    {
     "name": "stdout",
     "output_type": "stream",
     "text": [
      "Features saved to datasets/FunCoup/processed/goa_gene2vec.pt\n"
     ]
    },
    {
     "name": "stderr",
     "output_type": "stream",
     "text": [
      "100%|██████████| 17892/17892 [00:00<00:00, 100681.12it/s]\n",
      " 36%|███▌      | 5/14 [00:26<00:50,  5.60s/it]"
     ]
    },
    {
     "name": "stdout",
     "output_type": "stream",
     "text": [
      "Features saved to datasets/FunCoup/processed/goa_dnabert.pt\n"
     ]
    },
    {
     "name": "stderr",
     "output_type": "stream",
     "text": [
      "100%|██████████| 19338/19338 [00:00<00:00, 182367.60it/s]\n"
     ]
    },
    {
     "name": "stdout",
     "output_type": "stream",
     "text": [
      "Features saved to datasets/HIPPIE/processed/goa.pt\n"
     ]
    },
    {
     "name": "stderr",
     "output_type": "stream",
     "text": [
      "100%|██████████| 19338/19338 [00:00<00:00, 207262.94it/s]\n"
     ]
    },
    {
     "name": "stdout",
     "output_type": "stream",
     "text": [
      "Features saved to datasets/HIPPIE/processed/dnabert.pt\n"
     ]
    },
    {
     "name": "stderr",
     "output_type": "stream",
     "text": [
      "100%|██████████| 19338/19338 [00:00<00:00, 627209.29it/s]\n"
     ]
    },
    {
     "name": "stdout",
     "output_type": "stream",
     "text": [
      "Features saved to datasets/HIPPIE/processed/gene2vec.pt\n"
     ]
    },
    {
     "name": "stderr",
     "output_type": "stream",
     "text": [
      "100%|██████████| 19338/19338 [00:00<00:00, 155536.43it/s]\n"
     ]
    },
    {
     "name": "stdout",
     "output_type": "stream",
     "text": [
      "Features saved to datasets/HIPPIE/processed/ontoprotein.pt\n"
     ]
    },
    {
     "name": "stderr",
     "output_type": "stream",
     "text": [
      "100%|██████████| 19338/19338 [00:00<00:00, 121497.00it/s]\n"
     ]
    },
    {
     "name": "stdout",
     "output_type": "stream",
     "text": [
      "Features saved to datasets/HIPPIE/processed/goa_gene2vec.pt\n"
     ]
    },
    {
     "name": "stderr",
     "output_type": "stream",
     "text": [
      "100%|██████████| 19338/19338 [00:00<00:00, 104578.96it/s]\n",
      " 43%|████▎     | 6/14 [00:32<00:45,  5.74s/it]"
     ]
    },
    {
     "name": "stdout",
     "output_type": "stream",
     "text": [
      "Features saved to datasets/HIPPIE/processed/goa_dnabert.pt\n"
     ]
    },
    {
     "name": "stderr",
     "output_type": "stream",
     "text": [
      "100%|██████████| 18591/18591 [00:00<00:00, 18887.11it/s] \n"
     ]
    },
    {
     "name": "stdout",
     "output_type": "stream",
     "text": [
      "Features saved to datasets/HumanNet/processed/goa.pt\n"
     ]
    },
    {
     "name": "stderr",
     "output_type": "stream",
     "text": [
      "100%|██████████| 18591/18591 [00:00<00:00, 222934.67it/s]\n"
     ]
    },
    {
     "name": "stdout",
     "output_type": "stream",
     "text": [
      "Features saved to datasets/HumanNet/processed/dnabert.pt\n"
     ]
    },
    {
     "name": "stderr",
     "output_type": "stream",
     "text": [
      "100%|██████████| 18591/18591 [00:00<00:00, 442667.40it/s]\n"
     ]
    },
    {
     "name": "stdout",
     "output_type": "stream",
     "text": [
      "Features saved to datasets/HumanNet/processed/gene2vec.pt\n"
     ]
    },
    {
     "name": "stderr",
     "output_type": "stream",
     "text": [
      "100%|██████████| 18591/18591 [00:00<00:00, 158007.98it/s]\n"
     ]
    },
    {
     "name": "stdout",
     "output_type": "stream",
     "text": [
      "Features saved to datasets/HumanNet/processed/ontoprotein.pt\n"
     ]
    },
    {
     "name": "stderr",
     "output_type": "stream",
     "text": [
      "100%|██████████| 18591/18591 [00:00<00:00, 126151.98it/s]\n"
     ]
    },
    {
     "name": "stdout",
     "output_type": "stream",
     "text": [
      "Features saved to datasets/HumanNet/processed/goa_gene2vec.pt\n"
     ]
    },
    {
     "name": "stderr",
     "output_type": "stream",
     "text": [
      "100%|██████████| 18591/18591 [00:00<00:00, 99311.62it/s] \n",
      " 50%|█████     | 7/14 [00:40<00:44,  6.31s/it]"
     ]
    },
    {
     "name": "stdout",
     "output_type": "stream",
     "text": [
      "Features saved to datasets/HumanNet/processed/goa_dnabert.pt\n"
     ]
    },
    {
     "name": "stderr",
     "output_type": "stream",
     "text": [
      "100%|██████████| 15433/15433 [00:00<00:00, 206757.12it/s]\n"
     ]
    },
    {
     "name": "stdout",
     "output_type": "stream",
     "text": [
      "Features saved to datasets/HuMAP/processed/goa.pt\n"
     ]
    },
    {
     "name": "stderr",
     "output_type": "stream",
     "text": [
      "100%|██████████| 15433/15433 [00:00<00:00, 164233.16it/s]\n"
     ]
    },
    {
     "name": "stdout",
     "output_type": "stream",
     "text": [
      "Features saved to datasets/HuMAP/processed/dnabert.pt\n"
     ]
    },
    {
     "name": "stderr",
     "output_type": "stream",
     "text": [
      "100%|██████████| 15433/15433 [00:00<00:00, 468160.60it/s]\n"
     ]
    },
    {
     "name": "stdout",
     "output_type": "stream",
     "text": [
      "Features saved to datasets/HuMAP/processed/gene2vec.pt\n"
     ]
    },
    {
     "name": "stderr",
     "output_type": "stream",
     "text": [
      "100%|██████████| 15433/15433 [00:01<00:00, 13516.51it/s]\n"
     ]
    },
    {
     "name": "stdout",
     "output_type": "stream",
     "text": [
      "Features saved to datasets/HuMAP/processed/ontoprotein.pt\n"
     ]
    },
    {
     "name": "stderr",
     "output_type": "stream",
     "text": [
      "100%|██████████| 15433/15433 [00:00<00:00, 181910.06it/s]\n"
     ]
    },
    {
     "name": "stdout",
     "output_type": "stream",
     "text": [
      "Features saved to datasets/HuMAP/processed/goa_gene2vec.pt\n"
     ]
    },
    {
     "name": "stderr",
     "output_type": "stream",
     "text": [
      "100%|██████████| 15433/15433 [00:00<00:00, 82146.80it/s] \n",
      " 57%|█████▋    | 8/14 [00:47<00:38,  6.43s/it]"
     ]
    },
    {
     "name": "stdout",
     "output_type": "stream",
     "text": [
      "Features saved to datasets/HuMAP/processed/goa_dnabert.pt\n"
     ]
    },
    {
     "name": "stderr",
     "output_type": "stream",
     "text": [
      "100%|██████████| 8100/8100 [00:00<00:00, 191352.45it/s]\n"
     ]
    },
    {
     "name": "stdout",
     "output_type": "stream",
     "text": [
      "Features saved to datasets/HuRI/processed/goa.pt\n"
     ]
    },
    {
     "name": "stderr",
     "output_type": "stream",
     "text": [
      "100%|██████████| 8100/8100 [00:00<00:00, 163160.95it/s]\n"
     ]
    },
    {
     "name": "stdout",
     "output_type": "stream",
     "text": [
      "Features saved to datasets/HuRI/processed/dnabert.pt\n"
     ]
    },
    {
     "name": "stderr",
     "output_type": "stream",
     "text": [
      "100%|██████████| 8100/8100 [00:00<00:00, 1015539.62it/s]\n"
     ]
    },
    {
     "name": "stdout",
     "output_type": "stream",
     "text": [
      "Features saved to datasets/HuRI/processed/gene2vec.pt\n"
     ]
    },
    {
     "name": "stderr",
     "output_type": "stream",
     "text": [
      "100%|██████████| 8100/8100 [00:00<00:00, 196839.24it/s]\n"
     ]
    },
    {
     "name": "stdout",
     "output_type": "stream",
     "text": [
      "Features saved to datasets/HuRI/processed/ontoprotein.pt\n"
     ]
    },
    {
     "name": "stderr",
     "output_type": "stream",
     "text": [
      "100%|██████████| 8100/8100 [00:00<00:00, 217029.91it/s]\n"
     ]
    },
    {
     "name": "stdout",
     "output_type": "stream",
     "text": [
      "Features saved to datasets/HuRI/processed/goa_gene2vec.pt\n"
     ]
    },
    {
     "name": "stderr",
     "output_type": "stream",
     "text": [
      "100%|██████████| 8100/8100 [00:00<00:00, 148934.35it/s]\n",
      " 64%|██████▍   | 9/14 [00:49<00:26,  5.27s/it]"
     ]
    },
    {
     "name": "stdout",
     "output_type": "stream",
     "text": [
      "Features saved to datasets/HuRI/processed/goa_dnabert.pt\n"
     ]
    },
    {
     "name": "stderr",
     "output_type": "stream",
     "text": [
      "100%|██████████| 16325/16325 [00:00<00:00, 169880.45it/s]\n"
     ]
    },
    {
     "name": "stdout",
     "output_type": "stream",
     "text": [
      "Features saved to datasets/OmniPath/processed/goa.pt\n"
     ]
    },
    {
     "name": "stderr",
     "output_type": "stream",
     "text": [
      "100%|██████████| 16325/16325 [00:00<00:00, 143486.73it/s]\n"
     ]
    },
    {
     "name": "stdout",
     "output_type": "stream",
     "text": [
      "Features saved to datasets/OmniPath/processed/dnabert.pt\n"
     ]
    },
    {
     "name": "stderr",
     "output_type": "stream",
     "text": [
      "100%|██████████| 16325/16325 [00:00<00:00, 612746.88it/s]\n"
     ]
    },
    {
     "name": "stdout",
     "output_type": "stream",
     "text": [
      "Features saved to datasets/OmniPath/processed/gene2vec.pt\n"
     ]
    },
    {
     "name": "stderr",
     "output_type": "stream",
     "text": [
      "100%|██████████| 16325/16325 [00:00<00:00, 189667.91it/s]\n"
     ]
    },
    {
     "name": "stdout",
     "output_type": "stream",
     "text": [
      "Features saved to datasets/OmniPath/processed/ontoprotein.pt\n"
     ]
    },
    {
     "name": "stderr",
     "output_type": "stream",
     "text": [
      "100%|██████████| 16325/16325 [00:00<00:00, 169684.27it/s]\n"
     ]
    },
    {
     "name": "stdout",
     "output_type": "stream",
     "text": [
      "Features saved to datasets/OmniPath/processed/goa_gene2vec.pt\n"
     ]
    },
    {
     "name": "stderr",
     "output_type": "stream",
     "text": [
      "100%|██████████| 16325/16325 [00:00<00:00, 97648.65it/s] \n",
      " 71%|███████▏  | 10/14 [00:55<00:21,  5.47s/it]"
     ]
    },
    {
     "name": "stdout",
     "output_type": "stream",
     "text": [
      "Features saved to datasets/OmniPath/processed/goa_dnabert.pt\n"
     ]
    },
    {
     "name": "stderr",
     "output_type": "stream",
     "text": [
      "100%|██████████| 18544/18544 [00:01<00:00, 14682.82it/s] \n"
     ]
    },
    {
     "name": "stdout",
     "output_type": "stream",
     "text": [
      "Features saved to datasets/PCNet/processed/goa.pt\n"
     ]
    },
    {
     "name": "stderr",
     "output_type": "stream",
     "text": [
      "100%|██████████| 18544/18544 [00:00<00:00, 248010.04it/s]\n"
     ]
    },
    {
     "name": "stdout",
     "output_type": "stream",
     "text": [
      "Features saved to datasets/PCNet/processed/dnabert.pt\n"
     ]
    },
    {
     "name": "stderr",
     "output_type": "stream",
     "text": [
      "100%|██████████| 18544/18544 [00:00<00:00, 535245.32it/s]\n"
     ]
    },
    {
     "name": "stdout",
     "output_type": "stream",
     "text": [
      "Features saved to datasets/PCNet/processed/gene2vec.pt\n"
     ]
    },
    {
     "name": "stderr",
     "output_type": "stream",
     "text": [
      "100%|██████████| 18544/18544 [00:00<00:00, 220892.65it/s]\n"
     ]
    },
    {
     "name": "stdout",
     "output_type": "stream",
     "text": [
      "Features saved to datasets/PCNet/processed/ontoprotein.pt\n"
     ]
    },
    {
     "name": "stderr",
     "output_type": "stream",
     "text": [
      "100%|██████████| 18544/18544 [00:00<00:00, 149875.08it/s]\n"
     ]
    },
    {
     "name": "stdout",
     "output_type": "stream",
     "text": [
      "Features saved to datasets/PCNet/processed/goa_gene2vec.pt\n"
     ]
    },
    {
     "name": "stderr",
     "output_type": "stream",
     "text": [
      "100%|██████████| 18544/18544 [00:00<00:00, 122206.68it/s]\n",
      " 79%|███████▊  | 11/14 [01:02<00:18,  6.02s/it]"
     ]
    },
    {
     "name": "stdout",
     "output_type": "stream",
     "text": [
      "Features saved to datasets/PCNet/processed/goa_dnabert.pt\n"
     ]
    },
    {
     "name": "stderr",
     "output_type": "stream",
     "text": [
      "100%|██████████| 2471/2471 [00:00<00:00, 369303.21it/s]\n"
     ]
    },
    {
     "name": "stdout",
     "output_type": "stream",
     "text": [
      "Features saved to datasets/ProteomeHD/processed/goa.pt\n"
     ]
    },
    {
     "name": "stderr",
     "output_type": "stream",
     "text": [
      "100%|██████████| 2471/2471 [00:00<00:00, 217095.21it/s]\n"
     ]
    },
    {
     "name": "stdout",
     "output_type": "stream",
     "text": [
      "Features saved to datasets/ProteomeHD/processed/dnabert.pt\n"
     ]
    },
    {
     "name": "stderr",
     "output_type": "stream",
     "text": [
      "100%|██████████| 2471/2471 [00:00<00:00, 590986.21it/s]\n"
     ]
    },
    {
     "name": "stdout",
     "output_type": "stream",
     "text": [
      "Features saved to datasets/ProteomeHD/processed/gene2vec.pt\n"
     ]
    },
    {
     "name": "stderr",
     "output_type": "stream",
     "text": [
      "100%|██████████| 2471/2471 [00:00<00:00, 147517.33it/s]\n"
     ]
    },
    {
     "name": "stdout",
     "output_type": "stream",
     "text": [
      "Features saved to datasets/ProteomeHD/processed/ontoprotein.pt\n"
     ]
    },
    {
     "name": "stderr",
     "output_type": "stream",
     "text": [
      "100%|██████████| 2471/2471 [00:00<00:00, 262236.86it/s]\n"
     ]
    },
    {
     "name": "stdout",
     "output_type": "stream",
     "text": [
      "Features saved to datasets/ProteomeHD/processed/goa_gene2vec.pt\n"
     ]
    },
    {
     "name": "stderr",
     "output_type": "stream",
     "text": [
      "100%|██████████| 2471/2471 [00:00<00:00, 157903.06it/s]\n"
     ]
    },
    {
     "name": "stdout",
     "output_type": "stream",
     "text": [
      "Features saved to datasets/ProteomeHD/processed/goa_dnabert.pt\n"
     ]
    },
    {
     "name": "stderr",
     "output_type": "stream",
     "text": [
      "100%|██████████| 5291/5291 [00:00<00:00, 178590.90it/s]\n"
     ]
    },
    {
     "name": "stdout",
     "output_type": "stream",
     "text": [
      "Features saved to datasets/SIGNOR/processed/goa.pt\n"
     ]
    },
    {
     "name": "stderr",
     "output_type": "stream",
     "text": [
      "100%|██████████| 5291/5291 [00:00<00:00, 306600.66it/s]\n"
     ]
    },
    {
     "name": "stdout",
     "output_type": "stream",
     "text": [
      "Features saved to datasets/SIGNOR/processed/dnabert.pt\n"
     ]
    },
    {
     "name": "stderr",
     "output_type": "stream",
     "text": [
      "100%|██████████| 5291/5291 [00:00<00:00, 709147.52it/s]\n"
     ]
    },
    {
     "name": "stdout",
     "output_type": "stream",
     "text": [
      "Features saved to datasets/SIGNOR/processed/gene2vec.pt\n"
     ]
    },
    {
     "name": "stderr",
     "output_type": "stream",
     "text": [
      "100%|██████████| 5291/5291 [00:00<00:00, 248580.93it/s]\n"
     ]
    },
    {
     "name": "stdout",
     "output_type": "stream",
     "text": [
      "Features saved to datasets/SIGNOR/processed/ontoprotein.pt\n"
     ]
    },
    {
     "name": "stderr",
     "output_type": "stream",
     "text": [
      "100%|██████████| 5291/5291 [00:00<00:00, 221325.26it/s]\n"
     ]
    },
    {
     "name": "stdout",
     "output_type": "stream",
     "text": [
      "Features saved to datasets/SIGNOR/processed/goa_gene2vec.pt\n"
     ]
    },
    {
     "name": "stderr",
     "output_type": "stream",
     "text": [
      "100%|██████████| 5291/5291 [00:00<00:00, 140082.83it/s]\n",
      " 93%|█████████▎| 13/14 [01:05<00:03,  3.70s/it]"
     ]
    },
    {
     "name": "stdout",
     "output_type": "stream",
     "text": [
      "Features saved to datasets/SIGNOR/processed/goa_dnabert.pt\n"
     ]
    },
    {
     "name": "stderr",
     "output_type": "stream",
     "text": [
      "100%|██████████| 18480/18480 [00:00<00:00, 109015.59it/s]\n"
     ]
    },
    {
     "name": "stdout",
     "output_type": "stream",
     "text": [
      "Features saved to datasets/STRING/processed/goa.pt\n"
     ]
    },
    {
     "name": "stderr",
     "output_type": "stream",
     "text": [
      "100%|██████████| 18480/18480 [00:00<00:00, 258329.52it/s]\n"
     ]
    },
    {
     "name": "stdout",
     "output_type": "stream",
     "text": [
      "Features saved to datasets/STRING/processed/dnabert.pt\n"
     ]
    },
    {
     "name": "stderr",
     "output_type": "stream",
     "text": [
      "100%|██████████| 18480/18480 [00:00<00:00, 519387.13it/s]\n"
     ]
    },
    {
     "name": "stdout",
     "output_type": "stream",
     "text": [
      "Features saved to datasets/STRING/processed/gene2vec.pt\n"
     ]
    },
    {
     "name": "stderr",
     "output_type": "stream",
     "text": [
      "100%|██████████| 18480/18480 [00:00<00:00, 186566.07it/s]\n"
     ]
    },
    {
     "name": "stdout",
     "output_type": "stream",
     "text": [
      "Features saved to datasets/STRING/processed/ontoprotein.pt\n"
     ]
    },
    {
     "name": "stderr",
     "output_type": "stream",
     "text": [
      "100%|██████████| 18480/18480 [00:00<00:00, 138578.82it/s]\n"
     ]
    },
    {
     "name": "stdout",
     "output_type": "stream",
     "text": [
      "Features saved to datasets/STRING/processed/goa_gene2vec.pt\n"
     ]
    },
    {
     "name": "stderr",
     "output_type": "stream",
     "text": [
      "100%|██████████| 18480/18480 [00:00<00:00, 19187.89it/s]\n",
      "100%|██████████| 14/14 [01:12<00:00,  5.21s/it]"
     ]
    },
    {
     "name": "stdout",
     "output_type": "stream",
     "text": [
      "Features saved to datasets/STRING/processed/goa_dnabert.pt\n"
     ]
    },
    {
     "name": "stderr",
     "output_type": "stream",
     "text": [
      "\n"
     ]
    }
   ],
   "source": [
    "import os\n",
    "import numpy as np\n",
    "import torch\n",
    "import json\n",
    "from tqdm import tqdm\n",
    "\n",
    "# List of .npz files\n",
    "npz_files = [\n",
    "    \"datasets/BioGRID/processed/data.npz\",\n",
    "    \"datasets/BioPlex/processed/data.npz\",\n",
    "    \"datasets/ComPPIHumanInt/processed/data.npz\",\n",
    "    \"datasets/ConsensusPathDB/processed/data.npz\",\n",
    "    \"datasets/FunCoup/processed/data.npz\",\n",
    "    \"datasets/HIPPIE/processed/data.npz\",\n",
    "    \"datasets/HumanNet/processed/data_xc.npz\",\n",
    "    \"datasets/HuMAP/processed/data.npz\",\n",
    "    \"datasets/HuRI/processed/data.npz\",\n",
    "    \"datasets/OmniPath/processed/data.npz\",\n",
    "    \"datasets/PCNet/processed/data.npz\",\n",
    "    \"datasets/ProteomeHD/processed/data.npz\",\n",
    "    \"datasets/SIGNOR/processed/data.npz\",\n",
    "    \"datasets/STRING/processed/data.npz\",\n",
    "]\n",
    "with open(\"filtered_goa_embeddings.json\", \"r\") as json_file:\n",
    "    filtered_goa = json.load(json_file)\n",
    "with open(\"filtered_dnabert_embeddings.json\", \"r\") as json_file:\n",
    "    filtered_dnabert = json.load(json_file)\n",
    "with open(\"filtered_gene2vec_embeddings.json\", \"r\") as json_file:\n",
    "    filtered_gene2vec = json.load(json_file)\n",
    "with open(\"filtered_ontoprotein_embeddings.json\", \"r\") as json_file:\n",
    "    filtered_ontoprotein = json.load(json_file)\n",
    "with open(\"filtered_goa_gene2vec_embeddings.json\", \"r\") as json_file:\n",
    "    filtered_goa_gene2vec = json.load(json_file)\n",
    "with open(\"filtered_goa_dnabert_embeddings.json\", \"r\") as json_file:\n",
    "    filtered_goa_dnabert = json.load(json_file)\n",
    "\n",
    "def generate_features(node_ids, embedding_dict, output_filename, embedding_dim):\n",
    "    features = []\n",
    "    for node_id in tqdm(node_ids):\n",
    "        if node_id in embedding_dict:\n",
    "            features.append(embedding_dict[node_id])\n",
    "        else:\n",
    "            features.append([0.0] * embedding_dim)\n",
    "    \n",
    "    # Convert to a PyTorch tensor\n",
    "    features_tensor = torch.tensor(features)\n",
    "    \n",
    "    # Save the tensor as a .pt file\n",
    "    torch.save(features_tensor, output_filename)\n",
    "    print(f\"Features saved to {output_filename}\")\n",
    "\n",
    "for file in tqdm(npz_files):\n",
    "    # Load the .npz file and extract node IDs\n",
    "    data = np.load(file)\n",
    "    node_ids = list(data['node_ids'])\n",
    "\n",
    "    # Determine the output directory\n",
    "    output_dir = os.path.dirname(file)\n",
    "\n",
    "    # Determine the embedding dimensions\n",
    "    goa_dim = len(next(iter(filtered_goa.values())))\n",
    "    dnabert_dim = len(next(iter(filtered_dnabert.values())))\n",
    "    gene2vec_dim = len(next(iter(filtered_gene2vec.values())))\n",
    "    ontoprotein_dim = len(next(iter(filtered_ontoprotein.values())))\n",
    "    goa_gene2vec_dim = len(next(iter(filtered_goa_gene2vec.values())))\n",
    "    goa_dnabert_dim = len(next(iter(filtered_goa_dnabert.values())))\n",
    "\n",
    "    # Generate and save features for each dictionary\n",
    "    generate_features(node_ids, filtered_goa, os.path.join(output_dir, \"goa.pt\"), goa_dim)\n",
    "    generate_features(node_ids, filtered_dnabert, os.path.join(output_dir, \"dnabert.pt\"), dnabert_dim)\n",
    "    generate_features(node_ids, filtered_gene2vec, os.path.join(output_dir, \"gene2vec.pt\"), gene2vec_dim)\n",
    "    generate_features(node_ids, filtered_ontoprotein, os.path.join(output_dir, \"ontoprotein.pt\"), ontoprotein_dim)\n",
    "    generate_features(node_ids, filtered_goa_gene2vec, os.path.join(output_dir, \"goa_gene2vec.pt\"), goa_gene2vec_dim)\n",
    "    generate_features(node_ids, filtered_goa_dnabert, os.path.join(output_dir, \"goa_dnabert.pt\"), goa_dnabert_dim)"
   ]
  },
  {
   "cell_type": "code",
   "execution_count": 10,
   "metadata": {},
   "outputs": [
    {
     "ename": "JSONDecodeError",
     "evalue": "Expecting value: line 1 column 1 (char 0)",
     "output_type": "error",
     "traceback": [
      "\u001b[0;31m---------------------------------------------------------------------------\u001b[0m",
      "\u001b[0;31mJSONDecodeError\u001b[0m                           Traceback (most recent call last)",
      "Cell \u001b[0;32mIn[10], line 15\u001b[0m\n\u001b[1;32m     13\u001b[0m filepath \u001b[38;5;241m=\u001b[39m os\u001b[38;5;241m.\u001b[39mpath\u001b[38;5;241m.\u001b[39mjoin(root, file)\n\u001b[1;32m     14\u001b[0m \u001b[38;5;28;01mwith\u001b[39;00m \u001b[38;5;28mopen\u001b[39m(filepath, \u001b[38;5;124m\"\u001b[39m\u001b[38;5;124mr\u001b[39m\u001b[38;5;124m\"\u001b[39m) \u001b[38;5;28;01mas\u001b[39;00m f:\n\u001b[0;32m---> 15\u001b[0m     data \u001b[38;5;241m=\u001b[39m \u001b[43mjson\u001b[49m\u001b[38;5;241;43m.\u001b[39;49m\u001b[43mload\u001b[49m\u001b[43m(\u001b[49m\u001b[43mf\u001b[49m\u001b[43m)\u001b[49m\n\u001b[1;32m     17\u001b[0m     \u001b[38;5;66;03m# Filter the data for \"test\" task_id and calculate averages\u001b[39;00m\n\u001b[1;32m     18\u001b[0m     test_scores \u001b[38;5;241m=\u001b[39m [entry \u001b[38;5;28;01mfor\u001b[39;00m entry \u001b[38;5;129;01min\u001b[39;00m data \u001b[38;5;28;01mif\u001b[39;00m entry[\u001b[38;5;124m'\u001b[39m\u001b[38;5;124mtask_id\u001b[39m\u001b[38;5;124m'\u001b[39m] \u001b[38;5;241m==\u001b[39m \u001b[38;5;124m'\u001b[39m\u001b[38;5;124mtest\u001b[39m\u001b[38;5;124m'\u001b[39m]\n",
      "File \u001b[0;32m~/anaconda3/envs/obnb/lib/python3.8/json/__init__.py:293\u001b[0m, in \u001b[0;36mload\u001b[0;34m(fp, cls, object_hook, parse_float, parse_int, parse_constant, object_pairs_hook, **kw)\u001b[0m\n\u001b[1;32m    274\u001b[0m \u001b[38;5;28;01mdef\u001b[39;00m \u001b[38;5;21mload\u001b[39m(fp, \u001b[38;5;241m*\u001b[39m, \u001b[38;5;28mcls\u001b[39m\u001b[38;5;241m=\u001b[39m\u001b[38;5;28;01mNone\u001b[39;00m, object_hook\u001b[38;5;241m=\u001b[39m\u001b[38;5;28;01mNone\u001b[39;00m, parse_float\u001b[38;5;241m=\u001b[39m\u001b[38;5;28;01mNone\u001b[39;00m,\n\u001b[1;32m    275\u001b[0m         parse_int\u001b[38;5;241m=\u001b[39m\u001b[38;5;28;01mNone\u001b[39;00m, parse_constant\u001b[38;5;241m=\u001b[39m\u001b[38;5;28;01mNone\u001b[39;00m, object_pairs_hook\u001b[38;5;241m=\u001b[39m\u001b[38;5;28;01mNone\u001b[39;00m, \u001b[38;5;241m*\u001b[39m\u001b[38;5;241m*\u001b[39mkw):\n\u001b[1;32m    276\u001b[0m \u001b[38;5;250m    \u001b[39m\u001b[38;5;124;03m\"\"\"Deserialize ``fp`` (a ``.read()``-supporting file-like object containing\u001b[39;00m\n\u001b[1;32m    277\u001b[0m \u001b[38;5;124;03m    a JSON document) to a Python object.\u001b[39;00m\n\u001b[1;32m    278\u001b[0m \n\u001b[0;32m   (...)\u001b[0m\n\u001b[1;32m    291\u001b[0m \u001b[38;5;124;03m    kwarg; otherwise ``JSONDecoder`` is used.\u001b[39;00m\n\u001b[1;32m    292\u001b[0m \u001b[38;5;124;03m    \"\"\"\u001b[39;00m\n\u001b[0;32m--> 293\u001b[0m     \u001b[38;5;28;01mreturn\u001b[39;00m \u001b[43mloads\u001b[49m\u001b[43m(\u001b[49m\u001b[43mfp\u001b[49m\u001b[38;5;241;43m.\u001b[39;49m\u001b[43mread\u001b[49m\u001b[43m(\u001b[49m\u001b[43m)\u001b[49m\u001b[43m,\u001b[49m\n\u001b[1;32m    294\u001b[0m \u001b[43m        \u001b[49m\u001b[38;5;28;43mcls\u001b[39;49m\u001b[38;5;241;43m=\u001b[39;49m\u001b[38;5;28;43mcls\u001b[39;49m\u001b[43m,\u001b[49m\u001b[43m \u001b[49m\u001b[43mobject_hook\u001b[49m\u001b[38;5;241;43m=\u001b[39;49m\u001b[43mobject_hook\u001b[49m\u001b[43m,\u001b[49m\n\u001b[1;32m    295\u001b[0m \u001b[43m        \u001b[49m\u001b[43mparse_float\u001b[49m\u001b[38;5;241;43m=\u001b[39;49m\u001b[43mparse_float\u001b[49m\u001b[43m,\u001b[49m\u001b[43m \u001b[49m\u001b[43mparse_int\u001b[49m\u001b[38;5;241;43m=\u001b[39;49m\u001b[43mparse_int\u001b[49m\u001b[43m,\u001b[49m\n\u001b[1;32m    296\u001b[0m \u001b[43m        \u001b[49m\u001b[43mparse_constant\u001b[49m\u001b[38;5;241;43m=\u001b[39;49m\u001b[43mparse_constant\u001b[49m\u001b[43m,\u001b[49m\u001b[43m \u001b[49m\u001b[43mobject_pairs_hook\u001b[49m\u001b[38;5;241;43m=\u001b[39;49m\u001b[43mobject_pairs_hook\u001b[49m\u001b[43m,\u001b[49m\u001b[43m \u001b[49m\u001b[38;5;241;43m*\u001b[39;49m\u001b[38;5;241;43m*\u001b[39;49m\u001b[43mkw\u001b[49m\u001b[43m)\u001b[49m\n",
      "File \u001b[0;32m~/anaconda3/envs/obnb/lib/python3.8/json/__init__.py:357\u001b[0m, in \u001b[0;36mloads\u001b[0;34m(s, cls, object_hook, parse_float, parse_int, parse_constant, object_pairs_hook, **kw)\u001b[0m\n\u001b[1;32m    352\u001b[0m     \u001b[38;5;28;01mdel\u001b[39;00m kw[\u001b[38;5;124m'\u001b[39m\u001b[38;5;124mencoding\u001b[39m\u001b[38;5;124m'\u001b[39m]\n\u001b[1;32m    354\u001b[0m \u001b[38;5;28;01mif\u001b[39;00m (\u001b[38;5;28mcls\u001b[39m \u001b[38;5;129;01mis\u001b[39;00m \u001b[38;5;28;01mNone\u001b[39;00m \u001b[38;5;129;01mand\u001b[39;00m object_hook \u001b[38;5;129;01mis\u001b[39;00m \u001b[38;5;28;01mNone\u001b[39;00m \u001b[38;5;129;01mand\u001b[39;00m\n\u001b[1;32m    355\u001b[0m         parse_int \u001b[38;5;129;01mis\u001b[39;00m \u001b[38;5;28;01mNone\u001b[39;00m \u001b[38;5;129;01mand\u001b[39;00m parse_float \u001b[38;5;129;01mis\u001b[39;00m \u001b[38;5;28;01mNone\u001b[39;00m \u001b[38;5;129;01mand\u001b[39;00m\n\u001b[1;32m    356\u001b[0m         parse_constant \u001b[38;5;129;01mis\u001b[39;00m \u001b[38;5;28;01mNone\u001b[39;00m \u001b[38;5;129;01mand\u001b[39;00m object_pairs_hook \u001b[38;5;129;01mis\u001b[39;00m \u001b[38;5;28;01mNone\u001b[39;00m \u001b[38;5;129;01mand\u001b[39;00m \u001b[38;5;129;01mnot\u001b[39;00m kw):\n\u001b[0;32m--> 357\u001b[0m     \u001b[38;5;28;01mreturn\u001b[39;00m \u001b[43m_default_decoder\u001b[49m\u001b[38;5;241;43m.\u001b[39;49m\u001b[43mdecode\u001b[49m\u001b[43m(\u001b[49m\u001b[43ms\u001b[49m\u001b[43m)\u001b[49m\n\u001b[1;32m    358\u001b[0m \u001b[38;5;28;01mif\u001b[39;00m \u001b[38;5;28mcls\u001b[39m \u001b[38;5;129;01mis\u001b[39;00m \u001b[38;5;28;01mNone\u001b[39;00m:\n\u001b[1;32m    359\u001b[0m     \u001b[38;5;28mcls\u001b[39m \u001b[38;5;241m=\u001b[39m JSONDecoder\n",
      "File \u001b[0;32m~/anaconda3/envs/obnb/lib/python3.8/json/decoder.py:337\u001b[0m, in \u001b[0;36mJSONDecoder.decode\u001b[0;34m(self, s, _w)\u001b[0m\n\u001b[1;32m    332\u001b[0m \u001b[38;5;28;01mdef\u001b[39;00m \u001b[38;5;21mdecode\u001b[39m(\u001b[38;5;28mself\u001b[39m, s, _w\u001b[38;5;241m=\u001b[39mWHITESPACE\u001b[38;5;241m.\u001b[39mmatch):\n\u001b[1;32m    333\u001b[0m \u001b[38;5;250m    \u001b[39m\u001b[38;5;124;03m\"\"\"Return the Python representation of ``s`` (a ``str`` instance\u001b[39;00m\n\u001b[1;32m    334\u001b[0m \u001b[38;5;124;03m    containing a JSON document).\u001b[39;00m\n\u001b[1;32m    335\u001b[0m \n\u001b[1;32m    336\u001b[0m \u001b[38;5;124;03m    \"\"\"\u001b[39;00m\n\u001b[0;32m--> 337\u001b[0m     obj, end \u001b[38;5;241m=\u001b[39m \u001b[38;5;28;43mself\u001b[39;49m\u001b[38;5;241;43m.\u001b[39;49m\u001b[43mraw_decode\u001b[49m\u001b[43m(\u001b[49m\u001b[43ms\u001b[49m\u001b[43m,\u001b[49m\u001b[43m \u001b[49m\u001b[43midx\u001b[49m\u001b[38;5;241;43m=\u001b[39;49m\u001b[43m_w\u001b[49m\u001b[43m(\u001b[49m\u001b[43ms\u001b[49m\u001b[43m,\u001b[49m\u001b[43m \u001b[49m\u001b[38;5;241;43m0\u001b[39;49m\u001b[43m)\u001b[49m\u001b[38;5;241;43m.\u001b[39;49m\u001b[43mend\u001b[49m\u001b[43m(\u001b[49m\u001b[43m)\u001b[49m\u001b[43m)\u001b[49m\n\u001b[1;32m    338\u001b[0m     end \u001b[38;5;241m=\u001b[39m _w(s, end)\u001b[38;5;241m.\u001b[39mend()\n\u001b[1;32m    339\u001b[0m     \u001b[38;5;28;01mif\u001b[39;00m end \u001b[38;5;241m!=\u001b[39m \u001b[38;5;28mlen\u001b[39m(s):\n",
      "File \u001b[0;32m~/anaconda3/envs/obnb/lib/python3.8/json/decoder.py:355\u001b[0m, in \u001b[0;36mJSONDecoder.raw_decode\u001b[0;34m(self, s, idx)\u001b[0m\n\u001b[1;32m    353\u001b[0m     obj, end \u001b[38;5;241m=\u001b[39m \u001b[38;5;28mself\u001b[39m\u001b[38;5;241m.\u001b[39mscan_once(s, idx)\n\u001b[1;32m    354\u001b[0m \u001b[38;5;28;01mexcept\u001b[39;00m \u001b[38;5;167;01mStopIteration\u001b[39;00m \u001b[38;5;28;01mas\u001b[39;00m err:\n\u001b[0;32m--> 355\u001b[0m     \u001b[38;5;28;01mraise\u001b[39;00m JSONDecodeError(\u001b[38;5;124m\"\u001b[39m\u001b[38;5;124mExpecting value\u001b[39m\u001b[38;5;124m\"\u001b[39m, s, err\u001b[38;5;241m.\u001b[39mvalue) \u001b[38;5;28;01mfrom\u001b[39;00m \u001b[38;5;28;01mNone\u001b[39;00m\n\u001b[1;32m    356\u001b[0m \u001b[38;5;28;01mreturn\u001b[39;00m obj, end\n",
      "\u001b[0;31mJSONDecodeError\u001b[0m: Expecting value: line 1 column 1 (char 0)"
     ]
    }
   ],
   "source": [
    "import os\n",
    "import csv\n",
    "import json\n",
    "\n",
    "# Define the directory to search\n",
    "directory = \"results/dev\"# Define the output CSV file\n",
    "output_csv = \"all_results.csv\"# Initialize a list to store the results\n",
    "results = []\n",
    "\n",
    "for root, dirs, files in os.walk(directory):\n",
    "    for file in files:\n",
    "        if\"final_scores\"in file:\n",
    "            filepath = os.path.join(root, file)\n",
    "            with open(filepath, \"r\") as f:\n",
    "                data = json.load(f)\n",
    "                \n",
    "                # Filter the data for \"test\" task_id and calculate averages\n",
    "                test_scores = [entry for entry in data if entry['task_id'] == 'test']\n",
    "                \n",
    "                if test_scores:\n",
    "                    ap_scores = [entry['score_value'] for entry in test_scores if entry['score_type'] == 'AP']\n",
    "                    apop_scores = [entry['score_value'] for entry in test_scores if entry['score_type'] == 'APOP']\n",
    "                    auroc_scores = [entry['score_value'] for entry in test_scores if entry['score_type'] == 'AUROC']\n",
    "                    \n",
    "                    avg_ap = sum(ap_scores) / len(ap_scores) if ap_scores else None\n",
    "                    avg_apop = sum(apop_scores) / len(apop_scores) if apop_scores else None\n",
    "                    avg_auroc = sum(auroc_scores) / len(auroc_scores) if auroc_scores else None\n",
    "                    \n",
    "                    results.append({\n",
    "                        \"filepath\": filepath,\n",
    "                        \"test AP\": avg_ap,\n",
    "                        \"test APOP\": avg_apop,\n",
    "                        \"test AUROC\": avg_auroc\n",
    "                    })\n",
    "\n",
    "with open(output_csv, \"w\", newline='') as csvfile:\n",
    "    fieldnames = [\"filepath\", \"test AP\", \"test APOP\", \"test AUROC\"]\n",
    "    writer = csv.DictWriter(csvfile, fieldnames=fieldnames)\n",
    "\n",
    "    writer.writeheader()\n",
    "    for result in results:\n",
    "        writer.writerow(result)\n",
    "\n",
    "print(f\"Results saved to {output_csv}\")\n"
   ]
  },
  {
   "cell_type": "code",
   "execution_count": 54,
   "metadata": {},
   "outputs": [
    {
     "ename": "FileNotFoundError",
     "evalue": "[Errno 2] No such file or directory: 'results/dev/SIGNOR-DISEASE-MLP+Node2vec/run_0/final_scores_goa_gene2vec.csv'",
     "output_type": "error",
     "traceback": [
      "\u001b[0;31m---------------------------------------------------------------------------\u001b[0m",
      "\u001b[0;31mFileNotFoundError\u001b[0m                         Traceback (most recent call last)",
      "Cell \u001b[0;32mIn[54], line 2\u001b[0m\n\u001b[1;32m      1\u001b[0m \u001b[38;5;66;03m# \u001b[39;00m\n\u001b[0;32m----> 2\u001b[0m a \u001b[38;5;241m=\u001b[39m\u001b[43mpd\u001b[49m\u001b[38;5;241;43m.\u001b[39;49m\u001b[43mread_csv\u001b[49m\u001b[43m(\u001b[49m\u001b[38;5;124;43m\"\u001b[39;49m\u001b[38;5;124;43mresults/dev/SIGNOR-DISEASE-MLP+Node2vec/run_0/final_scores_goa_gene2vec.csv\u001b[39;49m\u001b[38;5;124;43m\"\u001b[39;49m\u001b[43m)\u001b[49m\n\u001b[1;32m      3\u001b[0m \u001b[38;5;28mprint\u001b[39m(\u001b[38;5;124m'\u001b[39m\u001b[38;5;124mAP\u001b[39m\u001b[38;5;124m'\u001b[39m,np\u001b[38;5;241m.\u001b[39mmean(\u001b[38;5;28mlist\u001b[39m(a[(a[\u001b[38;5;124m'\u001b[39m\u001b[38;5;124msplit\u001b[39m\u001b[38;5;124m'\u001b[39m] \u001b[38;5;241m==\u001b[39m \u001b[38;5;124m'\u001b[39m\u001b[38;5;124mtest\u001b[39m\u001b[38;5;124m'\u001b[39m) \u001b[38;5;241m&\u001b[39m (a[\u001b[38;5;124m'\u001b[39m\u001b[38;5;124mscore_type\u001b[39m\u001b[38;5;124m'\u001b[39m] \u001b[38;5;241m==\u001b[39m \u001b[38;5;124m'\u001b[39m\u001b[38;5;124mAP\u001b[39m\u001b[38;5;124m'\u001b[39m)][\u001b[38;5;124m'\u001b[39m\u001b[38;5;124mscore_value\u001b[39m\u001b[38;5;124m'\u001b[39m])))\n\u001b[1;32m      4\u001b[0m \u001b[38;5;28mprint\u001b[39m(\u001b[38;5;124m'\u001b[39m\u001b[38;5;124mAPOP\u001b[39m\u001b[38;5;124m'\u001b[39m,np\u001b[38;5;241m.\u001b[39mmean(\u001b[38;5;28mlist\u001b[39m(a[(a[\u001b[38;5;124m'\u001b[39m\u001b[38;5;124msplit\u001b[39m\u001b[38;5;124m'\u001b[39m] \u001b[38;5;241m==\u001b[39m \u001b[38;5;124m'\u001b[39m\u001b[38;5;124mtest\u001b[39m\u001b[38;5;124m'\u001b[39m) \u001b[38;5;241m&\u001b[39m (a[\u001b[38;5;124m'\u001b[39m\u001b[38;5;124mscore_type\u001b[39m\u001b[38;5;124m'\u001b[39m] \u001b[38;5;241m==\u001b[39m \u001b[38;5;124m'\u001b[39m\u001b[38;5;124mAPOP\u001b[39m\u001b[38;5;124m'\u001b[39m)][\u001b[38;5;124m'\u001b[39m\u001b[38;5;124mscore_value\u001b[39m\u001b[38;5;124m'\u001b[39m])))\n",
      "File \u001b[0;32m~/anaconda3/envs/obnb/lib/python3.8/site-packages/pandas/io/parsers/readers.py:912\u001b[0m, in \u001b[0;36mread_csv\u001b[0;34m(filepath_or_buffer, sep, delimiter, header, names, index_col, usecols, dtype, engine, converters, true_values, false_values, skipinitialspace, skiprows, skipfooter, nrows, na_values, keep_default_na, na_filter, verbose, skip_blank_lines, parse_dates, infer_datetime_format, keep_date_col, date_parser, date_format, dayfirst, cache_dates, iterator, chunksize, compression, thousands, decimal, lineterminator, quotechar, quoting, doublequote, escapechar, comment, encoding, encoding_errors, dialect, on_bad_lines, delim_whitespace, low_memory, memory_map, float_precision, storage_options, dtype_backend)\u001b[0m\n\u001b[1;32m    899\u001b[0m kwds_defaults \u001b[38;5;241m=\u001b[39m _refine_defaults_read(\n\u001b[1;32m    900\u001b[0m     dialect,\n\u001b[1;32m    901\u001b[0m     delimiter,\n\u001b[0;32m   (...)\u001b[0m\n\u001b[1;32m    908\u001b[0m     dtype_backend\u001b[38;5;241m=\u001b[39mdtype_backend,\n\u001b[1;32m    909\u001b[0m )\n\u001b[1;32m    910\u001b[0m kwds\u001b[38;5;241m.\u001b[39mupdate(kwds_defaults)\n\u001b[0;32m--> 912\u001b[0m \u001b[38;5;28;01mreturn\u001b[39;00m \u001b[43m_read\u001b[49m\u001b[43m(\u001b[49m\u001b[43mfilepath_or_buffer\u001b[49m\u001b[43m,\u001b[49m\u001b[43m \u001b[49m\u001b[43mkwds\u001b[49m\u001b[43m)\u001b[49m\n",
      "File \u001b[0;32m~/anaconda3/envs/obnb/lib/python3.8/site-packages/pandas/io/parsers/readers.py:577\u001b[0m, in \u001b[0;36m_read\u001b[0;34m(filepath_or_buffer, kwds)\u001b[0m\n\u001b[1;32m    574\u001b[0m _validate_names(kwds\u001b[38;5;241m.\u001b[39mget(\u001b[38;5;124m\"\u001b[39m\u001b[38;5;124mnames\u001b[39m\u001b[38;5;124m\"\u001b[39m, \u001b[38;5;28;01mNone\u001b[39;00m))\n\u001b[1;32m    576\u001b[0m \u001b[38;5;66;03m# Create the parser.\u001b[39;00m\n\u001b[0;32m--> 577\u001b[0m parser \u001b[38;5;241m=\u001b[39m \u001b[43mTextFileReader\u001b[49m\u001b[43m(\u001b[49m\u001b[43mfilepath_or_buffer\u001b[49m\u001b[43m,\u001b[49m\u001b[43m \u001b[49m\u001b[38;5;241;43m*\u001b[39;49m\u001b[38;5;241;43m*\u001b[39;49m\u001b[43mkwds\u001b[49m\u001b[43m)\u001b[49m\n\u001b[1;32m    579\u001b[0m \u001b[38;5;28;01mif\u001b[39;00m chunksize \u001b[38;5;129;01mor\u001b[39;00m iterator:\n\u001b[1;32m    580\u001b[0m     \u001b[38;5;28;01mreturn\u001b[39;00m parser\n",
      "File \u001b[0;32m~/anaconda3/envs/obnb/lib/python3.8/site-packages/pandas/io/parsers/readers.py:1407\u001b[0m, in \u001b[0;36mTextFileReader.__init__\u001b[0;34m(self, f, engine, **kwds)\u001b[0m\n\u001b[1;32m   1404\u001b[0m     \u001b[38;5;28mself\u001b[39m\u001b[38;5;241m.\u001b[39moptions[\u001b[38;5;124m\"\u001b[39m\u001b[38;5;124mhas_index_names\u001b[39m\u001b[38;5;124m\"\u001b[39m] \u001b[38;5;241m=\u001b[39m kwds[\u001b[38;5;124m\"\u001b[39m\u001b[38;5;124mhas_index_names\u001b[39m\u001b[38;5;124m\"\u001b[39m]\n\u001b[1;32m   1406\u001b[0m \u001b[38;5;28mself\u001b[39m\u001b[38;5;241m.\u001b[39mhandles: IOHandles \u001b[38;5;241m|\u001b[39m \u001b[38;5;28;01mNone\u001b[39;00m \u001b[38;5;241m=\u001b[39m \u001b[38;5;28;01mNone\u001b[39;00m\n\u001b[0;32m-> 1407\u001b[0m \u001b[38;5;28mself\u001b[39m\u001b[38;5;241m.\u001b[39m_engine \u001b[38;5;241m=\u001b[39m \u001b[38;5;28;43mself\u001b[39;49m\u001b[38;5;241;43m.\u001b[39;49m\u001b[43m_make_engine\u001b[49m\u001b[43m(\u001b[49m\u001b[43mf\u001b[49m\u001b[43m,\u001b[49m\u001b[43m \u001b[49m\u001b[38;5;28;43mself\u001b[39;49m\u001b[38;5;241;43m.\u001b[39;49m\u001b[43mengine\u001b[49m\u001b[43m)\u001b[49m\n",
      "File \u001b[0;32m~/anaconda3/envs/obnb/lib/python3.8/site-packages/pandas/io/parsers/readers.py:1661\u001b[0m, in \u001b[0;36mTextFileReader._make_engine\u001b[0;34m(self, f, engine)\u001b[0m\n\u001b[1;32m   1659\u001b[0m     \u001b[38;5;28;01mif\u001b[39;00m \u001b[38;5;124m\"\u001b[39m\u001b[38;5;124mb\u001b[39m\u001b[38;5;124m\"\u001b[39m \u001b[38;5;129;01mnot\u001b[39;00m \u001b[38;5;129;01min\u001b[39;00m mode:\n\u001b[1;32m   1660\u001b[0m         mode \u001b[38;5;241m+\u001b[39m\u001b[38;5;241m=\u001b[39m \u001b[38;5;124m\"\u001b[39m\u001b[38;5;124mb\u001b[39m\u001b[38;5;124m\"\u001b[39m\n\u001b[0;32m-> 1661\u001b[0m \u001b[38;5;28mself\u001b[39m\u001b[38;5;241m.\u001b[39mhandles \u001b[38;5;241m=\u001b[39m \u001b[43mget_handle\u001b[49m\u001b[43m(\u001b[49m\n\u001b[1;32m   1662\u001b[0m \u001b[43m    \u001b[49m\u001b[43mf\u001b[49m\u001b[43m,\u001b[49m\n\u001b[1;32m   1663\u001b[0m \u001b[43m    \u001b[49m\u001b[43mmode\u001b[49m\u001b[43m,\u001b[49m\n\u001b[1;32m   1664\u001b[0m \u001b[43m    \u001b[49m\u001b[43mencoding\u001b[49m\u001b[38;5;241;43m=\u001b[39;49m\u001b[38;5;28;43mself\u001b[39;49m\u001b[38;5;241;43m.\u001b[39;49m\u001b[43moptions\u001b[49m\u001b[38;5;241;43m.\u001b[39;49m\u001b[43mget\u001b[49m\u001b[43m(\u001b[49m\u001b[38;5;124;43m\"\u001b[39;49m\u001b[38;5;124;43mencoding\u001b[39;49m\u001b[38;5;124;43m\"\u001b[39;49m\u001b[43m,\u001b[49m\u001b[43m \u001b[49m\u001b[38;5;28;43;01mNone\u001b[39;49;00m\u001b[43m)\u001b[49m\u001b[43m,\u001b[49m\n\u001b[1;32m   1665\u001b[0m \u001b[43m    \u001b[49m\u001b[43mcompression\u001b[49m\u001b[38;5;241;43m=\u001b[39;49m\u001b[38;5;28;43mself\u001b[39;49m\u001b[38;5;241;43m.\u001b[39;49m\u001b[43moptions\u001b[49m\u001b[38;5;241;43m.\u001b[39;49m\u001b[43mget\u001b[49m\u001b[43m(\u001b[49m\u001b[38;5;124;43m\"\u001b[39;49m\u001b[38;5;124;43mcompression\u001b[39;49m\u001b[38;5;124;43m\"\u001b[39;49m\u001b[43m,\u001b[49m\u001b[43m \u001b[49m\u001b[38;5;28;43;01mNone\u001b[39;49;00m\u001b[43m)\u001b[49m\u001b[43m,\u001b[49m\n\u001b[1;32m   1666\u001b[0m \u001b[43m    \u001b[49m\u001b[43mmemory_map\u001b[49m\u001b[38;5;241;43m=\u001b[39;49m\u001b[38;5;28;43mself\u001b[39;49m\u001b[38;5;241;43m.\u001b[39;49m\u001b[43moptions\u001b[49m\u001b[38;5;241;43m.\u001b[39;49m\u001b[43mget\u001b[49m\u001b[43m(\u001b[49m\u001b[38;5;124;43m\"\u001b[39;49m\u001b[38;5;124;43mmemory_map\u001b[39;49m\u001b[38;5;124;43m\"\u001b[39;49m\u001b[43m,\u001b[49m\u001b[43m \u001b[49m\u001b[38;5;28;43;01mFalse\u001b[39;49;00m\u001b[43m)\u001b[49m\u001b[43m,\u001b[49m\n\u001b[1;32m   1667\u001b[0m \u001b[43m    \u001b[49m\u001b[43mis_text\u001b[49m\u001b[38;5;241;43m=\u001b[39;49m\u001b[43mis_text\u001b[49m\u001b[43m,\u001b[49m\n\u001b[1;32m   1668\u001b[0m \u001b[43m    \u001b[49m\u001b[43merrors\u001b[49m\u001b[38;5;241;43m=\u001b[39;49m\u001b[38;5;28;43mself\u001b[39;49m\u001b[38;5;241;43m.\u001b[39;49m\u001b[43moptions\u001b[49m\u001b[38;5;241;43m.\u001b[39;49m\u001b[43mget\u001b[49m\u001b[43m(\u001b[49m\u001b[38;5;124;43m\"\u001b[39;49m\u001b[38;5;124;43mencoding_errors\u001b[39;49m\u001b[38;5;124;43m\"\u001b[39;49m\u001b[43m,\u001b[49m\u001b[43m \u001b[49m\u001b[38;5;124;43m\"\u001b[39;49m\u001b[38;5;124;43mstrict\u001b[39;49m\u001b[38;5;124;43m\"\u001b[39;49m\u001b[43m)\u001b[49m\u001b[43m,\u001b[49m\n\u001b[1;32m   1669\u001b[0m \u001b[43m    \u001b[49m\u001b[43mstorage_options\u001b[49m\u001b[38;5;241;43m=\u001b[39;49m\u001b[38;5;28;43mself\u001b[39;49m\u001b[38;5;241;43m.\u001b[39;49m\u001b[43moptions\u001b[49m\u001b[38;5;241;43m.\u001b[39;49m\u001b[43mget\u001b[49m\u001b[43m(\u001b[49m\u001b[38;5;124;43m\"\u001b[39;49m\u001b[38;5;124;43mstorage_options\u001b[39;49m\u001b[38;5;124;43m\"\u001b[39;49m\u001b[43m,\u001b[49m\u001b[43m \u001b[49m\u001b[38;5;28;43;01mNone\u001b[39;49;00m\u001b[43m)\u001b[49m\u001b[43m,\u001b[49m\n\u001b[1;32m   1670\u001b[0m \u001b[43m\u001b[49m\u001b[43m)\u001b[49m\n\u001b[1;32m   1671\u001b[0m \u001b[38;5;28;01massert\u001b[39;00m \u001b[38;5;28mself\u001b[39m\u001b[38;5;241m.\u001b[39mhandles \u001b[38;5;129;01mis\u001b[39;00m \u001b[38;5;129;01mnot\u001b[39;00m \u001b[38;5;28;01mNone\u001b[39;00m\n\u001b[1;32m   1672\u001b[0m f \u001b[38;5;241m=\u001b[39m \u001b[38;5;28mself\u001b[39m\u001b[38;5;241m.\u001b[39mhandles\u001b[38;5;241m.\u001b[39mhandle\n",
      "File \u001b[0;32m~/anaconda3/envs/obnb/lib/python3.8/site-packages/pandas/io/common.py:859\u001b[0m, in \u001b[0;36mget_handle\u001b[0;34m(path_or_buf, mode, encoding, compression, memory_map, is_text, errors, storage_options)\u001b[0m\n\u001b[1;32m    854\u001b[0m \u001b[38;5;28;01melif\u001b[39;00m \u001b[38;5;28misinstance\u001b[39m(handle, \u001b[38;5;28mstr\u001b[39m):\n\u001b[1;32m    855\u001b[0m     \u001b[38;5;66;03m# Check whether the filename is to be opened in binary mode.\u001b[39;00m\n\u001b[1;32m    856\u001b[0m     \u001b[38;5;66;03m# Binary mode does not support 'encoding' and 'newline'.\u001b[39;00m\n\u001b[1;32m    857\u001b[0m     \u001b[38;5;28;01mif\u001b[39;00m ioargs\u001b[38;5;241m.\u001b[39mencoding \u001b[38;5;129;01mand\u001b[39;00m \u001b[38;5;124m\"\u001b[39m\u001b[38;5;124mb\u001b[39m\u001b[38;5;124m\"\u001b[39m \u001b[38;5;129;01mnot\u001b[39;00m \u001b[38;5;129;01min\u001b[39;00m ioargs\u001b[38;5;241m.\u001b[39mmode:\n\u001b[1;32m    858\u001b[0m         \u001b[38;5;66;03m# Encoding\u001b[39;00m\n\u001b[0;32m--> 859\u001b[0m         handle \u001b[38;5;241m=\u001b[39m \u001b[38;5;28;43mopen\u001b[39;49m\u001b[43m(\u001b[49m\n\u001b[1;32m    860\u001b[0m \u001b[43m            \u001b[49m\u001b[43mhandle\u001b[49m\u001b[43m,\u001b[49m\n\u001b[1;32m    861\u001b[0m \u001b[43m            \u001b[49m\u001b[43mioargs\u001b[49m\u001b[38;5;241;43m.\u001b[39;49m\u001b[43mmode\u001b[49m\u001b[43m,\u001b[49m\n\u001b[1;32m    862\u001b[0m \u001b[43m            \u001b[49m\u001b[43mencoding\u001b[49m\u001b[38;5;241;43m=\u001b[39;49m\u001b[43mioargs\u001b[49m\u001b[38;5;241;43m.\u001b[39;49m\u001b[43mencoding\u001b[49m\u001b[43m,\u001b[49m\n\u001b[1;32m    863\u001b[0m \u001b[43m            \u001b[49m\u001b[43merrors\u001b[49m\u001b[38;5;241;43m=\u001b[39;49m\u001b[43merrors\u001b[49m\u001b[43m,\u001b[49m\n\u001b[1;32m    864\u001b[0m \u001b[43m            \u001b[49m\u001b[43mnewline\u001b[49m\u001b[38;5;241;43m=\u001b[39;49m\u001b[38;5;124;43m\"\u001b[39;49m\u001b[38;5;124;43m\"\u001b[39;49m\u001b[43m,\u001b[49m\n\u001b[1;32m    865\u001b[0m \u001b[43m        \u001b[49m\u001b[43m)\u001b[49m\n\u001b[1;32m    866\u001b[0m     \u001b[38;5;28;01melse\u001b[39;00m:\n\u001b[1;32m    867\u001b[0m         \u001b[38;5;66;03m# Binary mode\u001b[39;00m\n\u001b[1;32m    868\u001b[0m         handle \u001b[38;5;241m=\u001b[39m \u001b[38;5;28mopen\u001b[39m(handle, ioargs\u001b[38;5;241m.\u001b[39mmode)\n",
      "\u001b[0;31mFileNotFoundError\u001b[0m: [Errno 2] No such file or directory: 'results/dev/SIGNOR-DISEASE-MLP+Node2vec/run_0/final_scores_goa_gene2vec.csv'"
     ]
    }
   ],
   "source": [
    "# \n",
    "a =pd.read_csv(\"results/dev/SIGNOR-DISEASES-MLP+Node2vec/run_0/final_scores_goa_gene2vec.csv\")\n",
    "print('AP',np.mean(list(a[(a['split'] == 'test') & (a['score_type'] == 'AP')]['score_value'])))\n",
    "print('APOP',np.mean(list(a[(a['split'] == 'test') & (a['score_type'] == 'APOP')]['score_value'])))\n",
    "print('AUROC',np.mean(list(a[(a['split'] == 'test') & (a['score_type'] == 'AUROC')]['score_value'])))"
   ]
  },
  {
   "cell_type": "code",
   "execution_count": null,
   "metadata": {},
   "outputs": [],
   "source": []
  },
  {
   "cell_type": "code",
   "execution_count": 32,
   "metadata": {},
   "outputs": [
    {
     "name": "stdout",
     "output_type": "stream",
     "text": [
      "APOP 0.6054598269598751\n",
      "AP 0.03931396241974209\n",
      "AUROC 0.5282329824464075\n"
     ]
    }
   ],
   "source": [
    "\n"
   ]
  }
 ],
 "metadata": {
  "kernelspec": {
   "display_name": "obnb",
   "language": "python",
   "name": "python3"
  },
  "language_info": {
   "codemirror_mode": {
    "name": "ipython",
    "version": 3
   },
   "file_extension": ".py",
   "mimetype": "text/x-python",
   "name": "python",
   "nbconvert_exporter": "python",
   "pygments_lexer": "ipython3",
   "version": "3.8.19"
  }
 },
 "nbformat": 4,
 "nbformat_minor": 2
}
