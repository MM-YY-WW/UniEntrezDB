{
 "cells": [
  {
   "cell_type": "markdown",
   "metadata": {},
   "source": [
    "## This file is to view the generated results"
   ]
  },
  {
   "cell_type": "markdown",
   "metadata": {},
   "source": [
    "### Initialize or Empty the CSV file\n"
   ]
  },
  {
   "cell_type": "code",
   "execution_count": 40,
   "metadata": {},
   "outputs": [],
   "source": [
    "import pandas as pd\n",
    "\n",
    "# define the name of result CSV file\n",
    "result_csv_file_name = 'results_overview.csv'\n",
    "\n",
    "columns = ['Model_name',\n",
    "                       'SingleCell_Fold0_Acc','SingleCell_Fold0_F1','SingleCell_Fold1_Acc','SingleCell_Fold1_F1','SingleCell_Fold2_Acc','SingleCell_Fold2_F1',\n",
    "                       'SingleCell_Fold3_Acc','SingleCell_Fold3_F1','SingleCell_Fold4_Acc','SingleCell_Fold4_F1', 'SingleCell_avg_ACC', 'SingleCell_avg_F1',\n",
    "                       'GGI_Fold0_Acc','GGI_Fold0_F1','GGI_Fold1_Acc','GGI_Fold1_F1','GGI_Fold2_Acc','GGI_Fold2_F1',\n",
    "                       'GGI_Fold3_Acc','GGI_Fold3_F1','GGI_Fold4_Acc','GGI_Fold4_F1','GGI_avg_ACC', 'GGI_avg_F1',                       \n",
    "                       'PPI_Fold0_Acc','PPI_Fold0_F1','PPI_Fold1_Acc','PPI_Fold1_F1','PPI_Fold2_Acc','PPI_Fold2_F1',\n",
    "                       'PPI_Fold3_Acc','PPI_Fold3_F1','PPI_Fold4_Acc','PPI_Fold4_F1','PPI_avg_ACC', 'PPI_avg_F1',\n",
    "                       'Copresent_Fold0_Acc','Copresent_Fold0_F1','Copresent_Fold1_Acc','Copresent_Fold1_F1','Copresent_Fold2_Acc','Copresent_Fold2_F1',\n",
    "                       'Copresent_Fold3_Acc','Copresent_Fold3_F1','Copresent_Fold4_Acc','Copresent_Fold4_F1','Copresent_avg_ACC', 'Copresent_avg_F1',\n",
    "                       ]\n",
    "all_results = pd.DataFrame(columns=columns)\n",
    "all_results.to_csv(result_csv_file_name, header=True, index=False, sep='\\t')\n",
    "new_row = {'Model_name':'Gene2Vec',\n",
    "        'SingleCell_Fold0_Acc': 0,'SingleCell_Fold0_F1': 0,\n",
    "        'SingleCell_Fold1_Acc': 0,'SingleCell_Fold1_F1': 0,\n",
    "        'SingleCell_Fold2_Acc': 0,'SingleCell_Fold2_F1': 0,\n",
    "        'SingleCell_Fold3_Acc': 0,'SingleCell_Fold3_F1': 0,\n",
    "        'SingleCell_Fold4_Acc': 0,'SingleCell_Fold4_F1': 0, \n",
    "        'SingleCell_avg_ACC': 0, 'SingleCell_avg_F1': 0,\n",
    "        'GGI_Fold0_Acc': 0,'GGI_Fold0_F1': 0,\n",
    "        'GGI_Fold1_Acc': 0,'GGI_Fold1_F1': 0,\n",
    "        'GGI_Fold2_Acc': 0,'GGI_Fold2_F1': 0,\n",
    "        'GGI_Fold3_Acc': 0,'GGI_Fold3_F1': 0,\n",
    "        'GGI_Fold4_Acc': 0,'GGI_Fold4_F1': 0,\n",
    "        'GGI_avg_ACC': 0, 'GGI_avg_F1': 0,\n",
    "        'PPI_Fold0_Acc': 0,'PPI_Fold0_F1': 0,\n",
    "        'PPI_Fold1_Acc': 0,'PPI_Fold1_F1': 0,\n",
    "        'PPI_Fold2_Acc': 0,'PPI_Fold2_F1': 0,\n",
    "        'PPI_Fold3_Acc': 0,'PPI_Fold3_F1': 0,\n",
    "        'PPI_Fold4_Acc': 0,'PPI_Fold4_F1': 0,\n",
    "        'PPI_avg_ACC': 0, 'PPI_avg_F1': 0,\n",
    "        'Copresent_Fold0_Acc': 0,'Copresent_Fold0_F1': 0,\n",
    "        'Copresent_Fold1_Acc': 0,'Copresent_Fold1_F1': 0,\n",
    "        'Copresent_Fold2_Acc': 0,'Copresent_Fold2_F1': 0,\n",
    "        'Copresent_Fold3_Acc': 0,'Copresent_Fold3_F1': 0,\n",
    "        'Copresent_Fold4_Acc': 0,'Copresent_Fold4_F1': 0,\n",
    "        'Copresent_avg_ACC': 0, 'Copresent_avg_F1': 0}"
   ]
  },
  {
   "cell_type": "code",
   "execution_count": 61,
   "metadata": {},
   "outputs": [
    {
     "data": {
      "text/html": [
       "<div>\n",
       "<style scoped>\n",
       "    .dataframe tbody tr th:only-of-type {\n",
       "        vertical-align: middle;\n",
       "    }\n",
       "\n",
       "    .dataframe tbody tr th {\n",
       "        vertical-align: top;\n",
       "    }\n",
       "\n",
       "    .dataframe thead th {\n",
       "        text-align: right;\n",
       "    }\n",
       "</style>\n",
       "<table border=\"1\" class=\"dataframe\">\n",
       "  <thead>\n",
       "    <tr style=\"text-align: right;\">\n",
       "      <th></th>\n",
       "      <th>Model_name</th>\n",
       "      <th>Copresent_Fold0_Acc</th>\n",
       "      <th>Copresent_Fold0_F1</th>\n",
       "      <th>GGI_Fold0_Acc</th>\n",
       "      <th>GGI_Fold0_F1</th>\n",
       "    </tr>\n",
       "  </thead>\n",
       "  <tbody>\n",
       "    <tr>\n",
       "      <th>1</th>\n",
       "      <td>Gene2Vec</td>\n",
       "      <td>0.6936</td>\n",
       "      <td>0.6934</td>\n",
       "      <td>0</td>\n",
       "      <td>0</td>\n",
       "    </tr>\n",
       "    <tr>\n",
       "      <th>0</th>\n",
       "      <td>GOA_Emb_DNABert2</td>\n",
       "      <td>0.6673</td>\n",
       "      <td>0.6660</td>\n",
       "      <td>0</td>\n",
       "      <td>0</td>\n",
       "    </tr>\n",
       "  </tbody>\n",
       "</table>\n",
       "</div>"
      ],
      "text/plain": [
       "         Model_name  Copresent_Fold0_Acc  Copresent_Fold0_F1  GGI_Fold0_Acc  \\\n",
       "1          Gene2Vec               0.6936              0.6934              0   \n",
       "0  GOA_Emb_DNABert2               0.6673              0.6660              0   \n",
       "\n",
       "   GGI_Fold0_F1  \n",
       "1             0  \n",
       "0             0  "
      ]
     },
     "execution_count": 61,
     "metadata": {},
     "output_type": "execute_result"
    }
   ],
   "source": [
    "all_results = pd.read_csv(result_csv_file_name, sep='\\t')\n",
    "all_results_sort = all_results.sort_values(by=\"Copresent_Fold0_Acc\", ascending=False)\n",
    "# all_results_sort = all_results.sort_values(by=\"GGI_Fold0_Acc\", ascending=False)\n",
    "all_results_sort[['Model_name','Copresent_Fold0_Acc','Copresent_Fold0_F1', 'GGI_Fold0_Acc','GGI_Fold0_F1']]"
   ]
  },
  {
   "cell_type": "markdown",
   "metadata": {},
   "source": [
    "### For the copresent task\n",
    "\n",
    "\n",
    "```\n",
    "chmod u+x ./scripts/Co_present.sh\n",
    "\n",
    "./scripts/Co_present.sh \"Gene2Vec\"\n",
    "\n",
    "```\n",
    "\n",
    "model could be choose from the following\n",
    "\n",
    "[\"Gene2Vec\", \"DNABert-2\", \"OntoProtein\", \"GOA_Emb\", \"GOA_Emb+Gene2Vec\", \"GOA_Emb+DNABert-2\"]"
   ]
  },
  {
   "cell_type": "code",
   "execution_count": 62,
   "metadata": {},
   "outputs": [
    {
     "data": {
      "text/html": [
       "<div>\n",
       "<style scoped>\n",
       "    .dataframe tbody tr th:only-of-type {\n",
       "        vertical-align: middle;\n",
       "    }\n",
       "\n",
       "    .dataframe tbody tr th {\n",
       "        vertical-align: top;\n",
       "    }\n",
       "\n",
       "    .dataframe thead th {\n",
       "        text-align: right;\n",
       "    }\n",
       "</style>\n",
       "<table border=\"1\" class=\"dataframe\">\n",
       "  <thead>\n",
       "    <tr style=\"text-align: right;\">\n",
       "      <th></th>\n",
       "      <th>Model_name</th>\n",
       "      <th>Copresent_Fold0_Acc</th>\n",
       "      <th>Copresent_Fold0_F1</th>\n",
       "    </tr>\n",
       "  </thead>\n",
       "  <tbody>\n",
       "    <tr>\n",
       "      <th>1</th>\n",
       "      <td>Gene2Vec</td>\n",
       "      <td>0.6936</td>\n",
       "      <td>0.6934</td>\n",
       "    </tr>\n",
       "    <tr>\n",
       "      <th>0</th>\n",
       "      <td>GOA_Emb_DNABert2</td>\n",
       "      <td>0.6673</td>\n",
       "      <td>0.6660</td>\n",
       "    </tr>\n",
       "  </tbody>\n",
       "</table>\n",
       "</div>"
      ],
      "text/plain": [
       "         Model_name  Copresent_Fold0_Acc  Copresent_Fold0_F1\n",
       "1          Gene2Vec               0.6936              0.6934\n",
       "0  GOA_Emb_DNABert2               0.6673              0.6660"
      ]
     },
     "execution_count": 62,
     "metadata": {},
     "output_type": "execute_result"
    }
   ],
   "source": [
    "all_results = pd.read_csv(result_csv_file_name, sep='\\t')\n",
    "all_results_sort[['Model_name','Copresent_Fold0_Acc','Copresent_Fold0_F1']]\n"
   ]
  },
  {
   "cell_type": "code",
   "execution_count": null,
   "metadata": {},
   "outputs": [],
   "source": []
  },
  {
   "cell_type": "code",
   "execution_count": 28,
   "metadata": {},
   "outputs": [
    {
     "data": {
      "text/html": [
       "<div>\n",
       "<style scoped>\n",
       "    .dataframe tbody tr th:only-of-type {\n",
       "        vertical-align: middle;\n",
       "    }\n",
       "\n",
       "    .dataframe tbody tr th {\n",
       "        vertical-align: top;\n",
       "    }\n",
       "\n",
       "    .dataframe thead th {\n",
       "        text-align: right;\n",
       "    }\n",
       "</style>\n",
       "<table border=\"1\" class=\"dataframe\">\n",
       "  <thead>\n",
       "    <tr style=\"text-align: right;\">\n",
       "      <th></th>\n",
       "      <th>Model_name</th>\n",
       "      <th>GGI_Fold0_Acc</th>\n",
       "      <th>GGI_Fold0_F1</th>\n",
       "    </tr>\n",
       "  </thead>\n",
       "  <tbody>\n",
       "    <tr>\n",
       "      <th>0</th>\n",
       "      <td>Gene2Vec</td>\n",
       "      <td>0</td>\n",
       "      <td>0</td>\n",
       "    </tr>\n",
       "    <tr>\n",
       "      <th>1</th>\n",
       "      <td>DNABert2</td>\n",
       "      <td>0</td>\n",
       "      <td>0</td>\n",
       "    </tr>\n",
       "  </tbody>\n",
       "</table>\n",
       "</div>"
      ],
      "text/plain": [
       "  Model_name  GGI_Fold0_Acc  GGI_Fold0_F1\n",
       "0   Gene2Vec              0             0\n",
       "1   DNABert2              0             0"
      ]
     },
     "execution_count": 28,
     "metadata": {},
     "output_type": "execute_result"
    }
   ],
   "source": [
    "all_results = pd.read_csv(result_csv_file_name, sep='\\t')\n",
    "all_results_sort[['Model_name', 'GGI_Fold0_Acc','GGI_Fold0_F1']]\n"
   ]
  },
  {
   "cell_type": "code",
   "execution_count": 29,
   "metadata": {},
   "outputs": [
    {
     "data": {
      "text/html": [
       "<div>\n",
       "<style scoped>\n",
       "    .dataframe tbody tr th:only-of-type {\n",
       "        vertical-align: middle;\n",
       "    }\n",
       "\n",
       "    .dataframe tbody tr th {\n",
       "        vertical-align: top;\n",
       "    }\n",
       "\n",
       "    .dataframe thead th {\n",
       "        text-align: right;\n",
       "    }\n",
       "</style>\n",
       "<table border=\"1\" class=\"dataframe\">\n",
       "  <thead>\n",
       "    <tr style=\"text-align: right;\">\n",
       "      <th></th>\n",
       "      <th>Model_name</th>\n",
       "      <th>PPI_Fold0_Acc</th>\n",
       "      <th>PPI_Fold0_F1</th>\n",
       "    </tr>\n",
       "  </thead>\n",
       "  <tbody>\n",
       "    <tr>\n",
       "      <th>0</th>\n",
       "      <td>Gene2Vec</td>\n",
       "      <td>0</td>\n",
       "      <td>0</td>\n",
       "    </tr>\n",
       "    <tr>\n",
       "      <th>1</th>\n",
       "      <td>DNABert2</td>\n",
       "      <td>0</td>\n",
       "      <td>0</td>\n",
       "    </tr>\n",
       "  </tbody>\n",
       "</table>\n",
       "</div>"
      ],
      "text/plain": [
       "  Model_name  PPI_Fold0_Acc  PPI_Fold0_F1\n",
       "0   Gene2Vec              0             0\n",
       "1   DNABert2              0             0"
      ]
     },
     "execution_count": 29,
     "metadata": {},
     "output_type": "execute_result"
    }
   ],
   "source": [
    "all_results = pd.read_csv(result_csv_file_name, sep='\\t')\n",
    "all_results_sort[['Model_name', 'PPI_Fold0_Acc','PPI_Fold0_F1']]\n"
   ]
  },
  {
   "cell_type": "code",
   "execution_count": 30,
   "metadata": {},
   "outputs": [
    {
     "data": {
      "text/html": [
       "<div>\n",
       "<style scoped>\n",
       "    .dataframe tbody tr th:only-of-type {\n",
       "        vertical-align: middle;\n",
       "    }\n",
       "\n",
       "    .dataframe tbody tr th {\n",
       "        vertical-align: top;\n",
       "    }\n",
       "\n",
       "    .dataframe thead th {\n",
       "        text-align: right;\n",
       "    }\n",
       "</style>\n",
       "<table border=\"1\" class=\"dataframe\">\n",
       "  <thead>\n",
       "    <tr style=\"text-align: right;\">\n",
       "      <th></th>\n",
       "      <th>Model_name</th>\n",
       "      <th>SingleCell_Fold0_Acc</th>\n",
       "      <th>SingleCell_Fold0_F1</th>\n",
       "    </tr>\n",
       "  </thead>\n",
       "  <tbody>\n",
       "    <tr>\n",
       "      <th>0</th>\n",
       "      <td>Gene2Vec</td>\n",
       "      <td>0</td>\n",
       "      <td>0</td>\n",
       "    </tr>\n",
       "    <tr>\n",
       "      <th>1</th>\n",
       "      <td>DNABert2</td>\n",
       "      <td>0</td>\n",
       "      <td>0</td>\n",
       "    </tr>\n",
       "  </tbody>\n",
       "</table>\n",
       "</div>"
      ],
      "text/plain": [
       "  Model_name  SingleCell_Fold0_Acc  SingleCell_Fold0_F1\n",
       "0   Gene2Vec                     0                    0\n",
       "1   DNABert2                     0                    0"
      ]
     },
     "execution_count": 30,
     "metadata": {},
     "output_type": "execute_result"
    }
   ],
   "source": [
    "all_results = pd.read_csv(result_csv_file_name, sep='\\t')\n",
    "all_results_sort[['Model_name', 'SingleCell_Fold0_Acc','SingleCell_Fold0_F1']]\n"
   ]
  }
 ],
 "metadata": {
  "kernelspec": {
   "display_name": "gopt",
   "language": "python",
   "name": "python3"
  },
  "language_info": {
   "codemirror_mode": {
    "name": "ipython",
    "version": 3
   },
   "file_extension": ".py",
   "mimetype": "text/x-python",
   "name": "python",
   "nbconvert_exporter": "python",
   "pygments_lexer": "ipython3",
   "version": "3.8.19"
  }
 },
 "nbformat": 4,
 "nbformat_minor": 2
}
