{
 "cells": [
  {
   "cell_type": "markdown",
   "metadata": {},
   "source": [
    "### Initialize or Empty the CSV file\n"
   ]
  },
  {
   "cell_type": "code",
   "execution_count": null,
   "metadata": {},
   "outputs": [],
   "source": [
    "import pandas as pd\n",
    "\n",
    "# define the name of result CSV file\n",
    "result_csv_file_name = 'results_overview.csv'\n",
    "\n",
    "columns = ['Model_name',\n",
    "                       'SingleCell_Fold0_Acc','SingleCell_Fold0_F1','SingleCell_Fold1_Acc','SingleCell_Fold1_F1','SingleCell_Fold2_Acc','SingleCell_Fold2_F1',\n",
    "                       'SingleCell_Fold3_Acc','SingleCell_Fold3_F1','SingleCell_Fold4_Acc','SingleCell_Fold4_F1', 'SingleCell_avg_ACC', 'SingleCell_avg_F1',\n",
    "                       'GGI_Fold0_Acc','GGI_Fold0_F1','GGI_Fold1_Acc','GGI_Fold1_F1','GGI_Fold2_Acc','GGI_Fold2_F1',\n",
    "                       'GGI_Fold3_Acc','GGI_Fold3_F1','GGI_Fold4_Acc','GGI_Fold4_F1','GGI_avg_ACC', 'GGI_avg_F1',                       \n",
    "                       'PPI_Fold0_Acc','PPI_Fold0_F1','PPI_Fold1_Acc','PPI_Fold1_F1','PPI_Fold2_Acc','PPI_Fold2_F1',\n",
    "                       'PPI_Fold3_Acc','PPI_Fold3_F1','PPI_Fold4_Acc','PPI_Fold4_F1','PPI_avg_ACC', 'PPI_avg_F1',\n",
    "                       'Copresent_Fold0_Acc','Copresent_Fold0_F1','Copresent_Fold1_Acc','Copresent_Fold1_F1','Copresent_Fold2_Acc','Copresent_Fold2_F1',\n",
    "                       'Copresent_Fold3_Acc','Copresent_Fold3_F1','Copresent_Fold4_Acc','Copresent_Fold4_F1','Copresent_avg_ACC', 'Copresent_avg_F1',\n",
    "                       ]\n",
    "all_results = pd.DataFrame(columns=columns)\n",
    "all_results.to_csv(result_csv_file_name, header=True, index=False, sep='\\t')\n"
   ]
  },
  {
   "cell_type": "code",
   "execution_count": null,
   "metadata": {},
   "outputs": [],
   "source": [
    "all_results = pd.read_csv(result_csv_file_name, sep='\\t')\n",
    "all_results_sort = all_results.sort_values(by=\"Copresent_Fold0_Acc\", ascending=False)\n",
    "# all_results_sort = all_results.sort_values(by=\"GGI_Fold0_Acc\", ascending=False)\n",
    "all_results_sort[['Model_name','Copresent_Fold0_Acc','Copresent_Fold0_F1', 'GGI_Fold0_Acc','GGI_Fold0_F1', 'SingleCell_Fold0_Acc', 'SingleCell_Fold0_F1']]"
   ]
  },
  {
   "cell_type": "markdown",
   "metadata": {},
   "source": [
    "### Pathway Co_present Prediction\n",
    "\n",
    "\n",
    "```\n",
    "chmod u+x ./scripts/Co_present.sh\n",
    "\n",
    "./scripts/Co_present.sh \"Gene2Vec\"\n",
    "\n",
    "```\n",
    "\n",
    "Model could be choose from the following\n",
    "\n",
    "[\"Gene2Vec\", \"DNABert-2\", \"OntoProtein\", \"GOA_Emb\", \"GOA_Emb+Gene2Vec\", \"GOA_Emb+DNABert-2\"]"
   ]
  },
  {
   "cell_type": "code",
   "execution_count": null,
   "metadata": {},
   "outputs": [],
   "source": [
    "all_results = pd.read_csv(result_csv_file_name, sep='\\t')\n",
    "all_results_sort[['Model_name','Copresent_Fold0_Acc','Copresent_Fold0_F1']]\n"
   ]
  },
  {
   "cell_type": "markdown",
   "metadata": {},
   "source": [
    "### Functional Gene Interaction Prediction\n",
    "\n",
    "\n",
    "```\n",
    "chmod u+x ./scripts/GGI.sh\n",
    "\n",
    "./scripts/GGI.sh \"Gene2Vec\"\n",
    "\n",
    "```\n",
    "\n",
    "Model could be choose from the following\n",
    "\n",
    "[\"Gene2Vec\", \"DNABert-2\", \"OntoProtein\", \"GOA_Emb\", \"GOA_Emb+Gene2Vec\", \"GOA_Emb+DNABert-2\"]"
   ]
  },
  {
   "cell_type": "code",
   "execution_count": null,
   "metadata": {},
   "outputs": [],
   "source": [
    "all_results = pd.read_csv(result_csv_file_name, sep='\\t')\n",
    "all_results_sort[['Model_name', 'GGI_Fold0_Acc','GGI_Fold0_F1']]\n"
   ]
  },
  {
   "cell_type": "markdown",
   "metadata": {},
   "source": [
    "### Protein-Protein Interaction\n",
    "Follow the instruction of [GNN_PPI git](https://github.com/lvguofeng/GNN_PPI) to set up environment.\n",
    "\n",
    "In run.py, replace ppi path with \"Benchmark_Evaluation_data/STRING/input_all_cols.txt\"\n",
    "\n",
    "replace the vec_path with the path of input embeddings\n",
    "\n",
    "Do the same thing in run_inference.py and run_test.py to obtain the results. "
   ]
  },
  {
   "cell_type": "code",
   "execution_count": null,
   "metadata": {},
   "outputs": [],
   "source": [
    "all_results = pd.read_csv(result_csv_file_name, sep='\\t')\n",
    "all_results_sort[['Model_name', 'PPI_Fold0_Acc','PPI_Fold0_F1']]\n"
   ]
  },
  {
   "cell_type": "markdown",
   "metadata": {},
   "source": [
    "### Single-Cell Type Annotation\n",
    "\n",
    "\n",
    "```\n",
    "chmod u+x ./scripts/SingleCell.sh\n",
    "\n",
    "./scripts/SingleCell.sh \"Gene2Vec\"\n",
    "\n",
    "```\n",
    "\n",
    "Model could be choose from the following\n",
    "\n",
    "[\"Gene2Vec\", \"DNABert-2\", \"OntoProtein\", \"GOA_Emb\", \"GOA_Emb+Gene2Vec\", \"GOA_Emb+DNABert-2\"]"
   ]
  },
  {
   "cell_type": "code",
   "execution_count": null,
   "metadata": {},
   "outputs": [],
   "source": [
    "all_results = pd.read_csv(result_csv_file_name, sep='\\t')\n",
    "all_results_sort[['Model_name', 'SingleCell_Fold0_Acc','SingleCell_Fold0_F1']]\n"
   ]
  }
 ],
 "metadata": {
  "kernelspec": {
   "display_name": "gopt",
   "language": "python",
   "name": "python3"
  },
  "language_info": {
   "codemirror_mode": {
    "name": "ipython",
    "version": 3
   },
   "file_extension": ".py",
   "mimetype": "text/x-python",
   "name": "python",
   "nbconvert_exporter": "python",
   "pygments_lexer": "ipython3",
   "version": "3.8.19"
  }
 },
 "nbformat": 4,
 "nbformat_minor": 2
}
